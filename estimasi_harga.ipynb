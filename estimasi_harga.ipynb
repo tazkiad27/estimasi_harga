{
  "cells": [
    {
      "cell_type": "markdown",
      "source": [],
      "metadata": {
        "id": "xdx9b9zC_UBH"
      }
    },
    {
      "cell_type": "markdown",
      "metadata": {
        "id": "1z_h_ZgSOvfQ"
      },
      "source": [
        "# Import **Library**"
      ]
    },
    {
      "cell_type": "code",
      "execution_count": 2,
      "metadata": {
        "id": "kVQpKiR3AlNq"
      },
      "outputs": [],
      "source": [
        "# Import Library\n",
        "import pandas as pd\n",
        "import numpy as np\n",
        "import os\n",
        "import pickle\n",
        "import matplotlib.pyplot as plt\n",
        "import seaborn as sns\n",
        "import datetime as dt\n",
        "from sklearn.model_selection import train_test_split\n",
        "from sklearn.svm import SVR\n",
        "from sklearn.linear_model import LinearRegression\n",
        "from sklearn.metrics import mean_squared_error, r2_score\n",
        "from sklearn.preprocessing import StandardScaler\n",
        "from tabulate import tabulate"
      ]
    },
    {
      "cell_type": "markdown",
      "metadata": {
        "id": "_BNXJPb_O2BB"
      },
      "source": [
        "# Import **Dataset**"
      ]
    },
    {
      "cell_type": "markdown",
      "metadata": {
        "id": "nqaqetOerNl7"
      },
      "source": []
    },
    {
      "cell_type": "code",
      "execution_count": 3,
      "metadata": {
        "colab": {
          "base_uri": "https://localhost:8080/"
        },
        "id": "1NazhPFJOun5",
        "outputId": "b1d343ed-ef20-4a88-e0a3-d7d5b5bc6364"
      },
      "outputs": [
        {
          "output_type": "stream",
          "name": "stdout",
          "text": [
            "https://drive.google.com/uc?id=11Akl7gVqyj25h85eyiwMyfohB8oDYSqf\n"
          ]
        }
      ],
      "source": [
        "#Import dataset csv format from google drive\n",
        "sheet_url = 'https://drive.google.com/file/d/11Akl7gVqyj25h85eyiwMyfohB8oDYSqf/view?usp=sharing' #assign link to a variable\n",
        "sheet_url_replace = 'https://drive.google.com/uc?id=' + sheet_url.split('/')[-2] #replace the link\n",
        "\n",
        "print(sheet_url_replace)\n",
        "\n",
        "carsales = pd.read_csv(sheet_url_replace) #Import/read the csv file into pandas dataframe"
      ]
    },
    {
      "cell_type": "code",
      "execution_count": 4,
      "metadata": {
        "colab": {
          "base_uri": "https://localhost:8080/",
          "height": 382
        },
        "id": "YAyaA3tXQZcQ",
        "outputId": "527cbb10-41d8-4b8d-fabc-8aa73006458e"
      },
      "outputs": [
        {
          "output_type": "execute_result",
          "data": {
            "text/plain": [
              "  Manufacturer    Model  Sales_Unit  __year_resale_value Vehicle_type  \\\n",
              "0        Acura  Integra      16.919               16.360    Passenger   \n",
              "1        Acura       TL      39.384               19.875    Passenger   \n",
              "2        Acura       CL      14.114               18.225    Passenger   \n",
              "3        Acura       RL       8.588               29.725    Passenger   \n",
              "4         Audi       A4      20.397               22.255    Passenger   \n",
              "5         Audi       A6      18.780               23.555    Passenger   \n",
              "6         Audi       A8       1.380               29.000    Passenger   \n",
              "7          BMW     323i      19.747               27.255    Passenger   \n",
              "8          BMW     328i       9.231               28.675    Passenger   \n",
              "9          BMW     528i      17.527               36.125    Passenger   \n",
              "\n",
              "   Sale_Price  Engine_size  Horsepower  Wheelbase  Width  Length  Curb_weight  \\\n",
              "0       21.50          1.8         140      101.2   67.3   172.4        2.639   \n",
              "1       28.40          3.2         225      108.1   70.3   192.9        3.517   \n",
              "2       25.50          3.2         225      106.9   70.6   192.0        3.470   \n",
              "3       42.00          3.5         210      114.6   71.4   196.6        3.850   \n",
              "4       23.99          1.8         150      102.6   68.2   178.0        2.998   \n",
              "5       33.95          2.8         200      108.7   76.1   192.0        3.561   \n",
              "6       62.00          4.2         310      113.0   74.0   198.2        3.902   \n",
              "7       26.99          2.5         170      107.3   68.4   176.0        3.179   \n",
              "8       33.40          2.8         193      107.3   68.5   176.0        3.197   \n",
              "9       38.90          2.8         193      111.4   70.9   188.0        3.472   \n",
              "\n",
              "   Fuel_capacity  Fuel_efficiency       Date Power_perf_factor  \n",
              "0           13.2               28   1/1/2019     5.828.014.952  \n",
              "1           17.2               25   1/2/2019     9.137.077.766  \n",
              "2           17.2               26   1/3/2019     8.435.131.532  \n",
              "3           18.0               22   1/4/2019     9.138.977.933  \n",
              "4           16.4               27   1/5/2019       627.776.392  \n",
              "5           18.5               22   1/6/2019     8.456.510.502  \n",
              "6           23.7               21   1/7/2019     1.346.568.582  \n",
              "7           16.6               26   1/8/2019     7.119.120.671  \n",
              "8           16.6               24   1/9/2019     8.187.706.856  \n",
              "9           18.5               25  1/10/2019       839.987.238  "
            ],
            "text/html": [
              "\n",
              "  <div id=\"df-f85ac464-8bc2-4060-be06-8dcffc414d18\" class=\"colab-df-container\">\n",
              "    <div>\n",
              "<style scoped>\n",
              "    .dataframe tbody tr th:only-of-type {\n",
              "        vertical-align: middle;\n",
              "    }\n",
              "\n",
              "    .dataframe tbody tr th {\n",
              "        vertical-align: top;\n",
              "    }\n",
              "\n",
              "    .dataframe thead th {\n",
              "        text-align: right;\n",
              "    }\n",
              "</style>\n",
              "<table border=\"1\" class=\"dataframe\">\n",
              "  <thead>\n",
              "    <tr style=\"text-align: right;\">\n",
              "      <th></th>\n",
              "      <th>Manufacturer</th>\n",
              "      <th>Model</th>\n",
              "      <th>Sales_Unit</th>\n",
              "      <th>__year_resale_value</th>\n",
              "      <th>Vehicle_type</th>\n",
              "      <th>Sale_Price</th>\n",
              "      <th>Engine_size</th>\n",
              "      <th>Horsepower</th>\n",
              "      <th>Wheelbase</th>\n",
              "      <th>Width</th>\n",
              "      <th>Length</th>\n",
              "      <th>Curb_weight</th>\n",
              "      <th>Fuel_capacity</th>\n",
              "      <th>Fuel_efficiency</th>\n",
              "      <th>Date</th>\n",
              "      <th>Power_perf_factor</th>\n",
              "    </tr>\n",
              "  </thead>\n",
              "  <tbody>\n",
              "    <tr>\n",
              "      <th>0</th>\n",
              "      <td>Acura</td>\n",
              "      <td>Integra</td>\n",
              "      <td>16.919</td>\n",
              "      <td>16.360</td>\n",
              "      <td>Passenger</td>\n",
              "      <td>21.50</td>\n",
              "      <td>1.8</td>\n",
              "      <td>140</td>\n",
              "      <td>101.2</td>\n",
              "      <td>67.3</td>\n",
              "      <td>172.4</td>\n",
              "      <td>2.639</td>\n",
              "      <td>13.2</td>\n",
              "      <td>28</td>\n",
              "      <td>1/1/2019</td>\n",
              "      <td>5.828.014.952</td>\n",
              "    </tr>\n",
              "    <tr>\n",
              "      <th>1</th>\n",
              "      <td>Acura</td>\n",
              "      <td>TL</td>\n",
              "      <td>39.384</td>\n",
              "      <td>19.875</td>\n",
              "      <td>Passenger</td>\n",
              "      <td>28.40</td>\n",
              "      <td>3.2</td>\n",
              "      <td>225</td>\n",
              "      <td>108.1</td>\n",
              "      <td>70.3</td>\n",
              "      <td>192.9</td>\n",
              "      <td>3.517</td>\n",
              "      <td>17.2</td>\n",
              "      <td>25</td>\n",
              "      <td>1/2/2019</td>\n",
              "      <td>9.137.077.766</td>\n",
              "    </tr>\n",
              "    <tr>\n",
              "      <th>2</th>\n",
              "      <td>Acura</td>\n",
              "      <td>CL</td>\n",
              "      <td>14.114</td>\n",
              "      <td>18.225</td>\n",
              "      <td>Passenger</td>\n",
              "      <td>25.50</td>\n",
              "      <td>3.2</td>\n",
              "      <td>225</td>\n",
              "      <td>106.9</td>\n",
              "      <td>70.6</td>\n",
              "      <td>192.0</td>\n",
              "      <td>3.470</td>\n",
              "      <td>17.2</td>\n",
              "      <td>26</td>\n",
              "      <td>1/3/2019</td>\n",
              "      <td>8.435.131.532</td>\n",
              "    </tr>\n",
              "    <tr>\n",
              "      <th>3</th>\n",
              "      <td>Acura</td>\n",
              "      <td>RL</td>\n",
              "      <td>8.588</td>\n",
              "      <td>29.725</td>\n",
              "      <td>Passenger</td>\n",
              "      <td>42.00</td>\n",
              "      <td>3.5</td>\n",
              "      <td>210</td>\n",
              "      <td>114.6</td>\n",
              "      <td>71.4</td>\n",
              "      <td>196.6</td>\n",
              "      <td>3.850</td>\n",
              "      <td>18.0</td>\n",
              "      <td>22</td>\n",
              "      <td>1/4/2019</td>\n",
              "      <td>9.138.977.933</td>\n",
              "    </tr>\n",
              "    <tr>\n",
              "      <th>4</th>\n",
              "      <td>Audi</td>\n",
              "      <td>A4</td>\n",
              "      <td>20.397</td>\n",
              "      <td>22.255</td>\n",
              "      <td>Passenger</td>\n",
              "      <td>23.99</td>\n",
              "      <td>1.8</td>\n",
              "      <td>150</td>\n",
              "      <td>102.6</td>\n",
              "      <td>68.2</td>\n",
              "      <td>178.0</td>\n",
              "      <td>2.998</td>\n",
              "      <td>16.4</td>\n",
              "      <td>27</td>\n",
              "      <td>1/5/2019</td>\n",
              "      <td>627.776.392</td>\n",
              "    </tr>\n",
              "    <tr>\n",
              "      <th>5</th>\n",
              "      <td>Audi</td>\n",
              "      <td>A6</td>\n",
              "      <td>18.780</td>\n",
              "      <td>23.555</td>\n",
              "      <td>Passenger</td>\n",
              "      <td>33.95</td>\n",
              "      <td>2.8</td>\n",
              "      <td>200</td>\n",
              "      <td>108.7</td>\n",
              "      <td>76.1</td>\n",
              "      <td>192.0</td>\n",
              "      <td>3.561</td>\n",
              "      <td>18.5</td>\n",
              "      <td>22</td>\n",
              "      <td>1/6/2019</td>\n",
              "      <td>8.456.510.502</td>\n",
              "    </tr>\n",
              "    <tr>\n",
              "      <th>6</th>\n",
              "      <td>Audi</td>\n",
              "      <td>A8</td>\n",
              "      <td>1.380</td>\n",
              "      <td>29.000</td>\n",
              "      <td>Passenger</td>\n",
              "      <td>62.00</td>\n",
              "      <td>4.2</td>\n",
              "      <td>310</td>\n",
              "      <td>113.0</td>\n",
              "      <td>74.0</td>\n",
              "      <td>198.2</td>\n",
              "      <td>3.902</td>\n",
              "      <td>23.7</td>\n",
              "      <td>21</td>\n",
              "      <td>1/7/2019</td>\n",
              "      <td>1.346.568.582</td>\n",
              "    </tr>\n",
              "    <tr>\n",
              "      <th>7</th>\n",
              "      <td>BMW</td>\n",
              "      <td>323i</td>\n",
              "      <td>19.747</td>\n",
              "      <td>27.255</td>\n",
              "      <td>Passenger</td>\n",
              "      <td>26.99</td>\n",
              "      <td>2.5</td>\n",
              "      <td>170</td>\n",
              "      <td>107.3</td>\n",
              "      <td>68.4</td>\n",
              "      <td>176.0</td>\n",
              "      <td>3.179</td>\n",
              "      <td>16.6</td>\n",
              "      <td>26</td>\n",
              "      <td>1/8/2019</td>\n",
              "      <td>7.119.120.671</td>\n",
              "    </tr>\n",
              "    <tr>\n",
              "      <th>8</th>\n",
              "      <td>BMW</td>\n",
              "      <td>328i</td>\n",
              "      <td>9.231</td>\n",
              "      <td>28.675</td>\n",
              "      <td>Passenger</td>\n",
              "      <td>33.40</td>\n",
              "      <td>2.8</td>\n",
              "      <td>193</td>\n",
              "      <td>107.3</td>\n",
              "      <td>68.5</td>\n",
              "      <td>176.0</td>\n",
              "      <td>3.197</td>\n",
              "      <td>16.6</td>\n",
              "      <td>24</td>\n",
              "      <td>1/9/2019</td>\n",
              "      <td>8.187.706.856</td>\n",
              "    </tr>\n",
              "    <tr>\n",
              "      <th>9</th>\n",
              "      <td>BMW</td>\n",
              "      <td>528i</td>\n",
              "      <td>17.527</td>\n",
              "      <td>36.125</td>\n",
              "      <td>Passenger</td>\n",
              "      <td>38.90</td>\n",
              "      <td>2.8</td>\n",
              "      <td>193</td>\n",
              "      <td>111.4</td>\n",
              "      <td>70.9</td>\n",
              "      <td>188.0</td>\n",
              "      <td>3.472</td>\n",
              "      <td>18.5</td>\n",
              "      <td>25</td>\n",
              "      <td>1/10/2019</td>\n",
              "      <td>839.987.238</td>\n",
              "    </tr>\n",
              "  </tbody>\n",
              "</table>\n",
              "</div>\n",
              "    <div class=\"colab-df-buttons\">\n",
              "\n",
              "  <div class=\"colab-df-container\">\n",
              "    <button class=\"colab-df-convert\" onclick=\"convertToInteractive('df-f85ac464-8bc2-4060-be06-8dcffc414d18')\"\n",
              "            title=\"Convert this dataframe to an interactive table.\"\n",
              "            style=\"display:none;\">\n",
              "\n",
              "  <svg xmlns=\"http://www.w3.org/2000/svg\" height=\"24px\" viewBox=\"0 -960 960 960\">\n",
              "    <path d=\"M120-120v-720h720v720H120Zm60-500h600v-160H180v160Zm220 220h160v-160H400v160Zm0 220h160v-160H400v160ZM180-400h160v-160H180v160Zm440 0h160v-160H620v160ZM180-180h160v-160H180v160Zm440 0h160v-160H620v160Z\"/>\n",
              "  </svg>\n",
              "    </button>\n",
              "\n",
              "  <style>\n",
              "    .colab-df-container {\n",
              "      display:flex;\n",
              "      gap: 12px;\n",
              "    }\n",
              "\n",
              "    .colab-df-convert {\n",
              "      background-color: #E8F0FE;\n",
              "      border: none;\n",
              "      border-radius: 50%;\n",
              "      cursor: pointer;\n",
              "      display: none;\n",
              "      fill: #1967D2;\n",
              "      height: 32px;\n",
              "      padding: 0 0 0 0;\n",
              "      width: 32px;\n",
              "    }\n",
              "\n",
              "    .colab-df-convert:hover {\n",
              "      background-color: #E2EBFA;\n",
              "      box-shadow: 0px 1px 2px rgba(60, 64, 67, 0.3), 0px 1px 3px 1px rgba(60, 64, 67, 0.15);\n",
              "      fill: #174EA6;\n",
              "    }\n",
              "\n",
              "    .colab-df-buttons div {\n",
              "      margin-bottom: 4px;\n",
              "    }\n",
              "\n",
              "    [theme=dark] .colab-df-convert {\n",
              "      background-color: #3B4455;\n",
              "      fill: #D2E3FC;\n",
              "    }\n",
              "\n",
              "    [theme=dark] .colab-df-convert:hover {\n",
              "      background-color: #434B5C;\n",
              "      box-shadow: 0px 1px 3px 1px rgba(0, 0, 0, 0.15);\n",
              "      filter: drop-shadow(0px 1px 2px rgba(0, 0, 0, 0.3));\n",
              "      fill: #FFFFFF;\n",
              "    }\n",
              "  </style>\n",
              "\n",
              "    <script>\n",
              "      const buttonEl =\n",
              "        document.querySelector('#df-f85ac464-8bc2-4060-be06-8dcffc414d18 button.colab-df-convert');\n",
              "      buttonEl.style.display =\n",
              "        google.colab.kernel.accessAllowed ? 'block' : 'none';\n",
              "\n",
              "      async function convertToInteractive(key) {\n",
              "        const element = document.querySelector('#df-f85ac464-8bc2-4060-be06-8dcffc414d18');\n",
              "        const dataTable =\n",
              "          await google.colab.kernel.invokeFunction('convertToInteractive',\n",
              "                                                    [key], {});\n",
              "        if (!dataTable) return;\n",
              "\n",
              "        const docLinkHtml = 'Like what you see? Visit the ' +\n",
              "          '<a target=\"_blank\" href=https://colab.research.google.com/notebooks/data_table.ipynb>data table notebook</a>'\n",
              "          + ' to learn more about interactive tables.';\n",
              "        element.innerHTML = '';\n",
              "        dataTable['output_type'] = 'display_data';\n",
              "        await google.colab.output.renderOutput(dataTable, element);\n",
              "        const docLink = document.createElement('div');\n",
              "        docLink.innerHTML = docLinkHtml;\n",
              "        element.appendChild(docLink);\n",
              "      }\n",
              "    </script>\n",
              "  </div>\n",
              "\n",
              "\n",
              "<div id=\"df-194567d9-6487-407a-ab70-2a70927159b8\">\n",
              "  <button class=\"colab-df-quickchart\" onclick=\"quickchart('df-194567d9-6487-407a-ab70-2a70927159b8')\"\n",
              "            title=\"Suggest charts\"\n",
              "            style=\"display:none;\">\n",
              "\n",
              "<svg xmlns=\"http://www.w3.org/2000/svg\" height=\"24px\"viewBox=\"0 0 24 24\"\n",
              "     width=\"24px\">\n",
              "    <g>\n",
              "        <path d=\"M19 3H5c-1.1 0-2 .9-2 2v14c0 1.1.9 2 2 2h14c1.1 0 2-.9 2-2V5c0-1.1-.9-2-2-2zM9 17H7v-7h2v7zm4 0h-2V7h2v10zm4 0h-2v-4h2v4z\"/>\n",
              "    </g>\n",
              "</svg>\n",
              "  </button>\n",
              "\n",
              "<style>\n",
              "  .colab-df-quickchart {\n",
              "      --bg-color: #E8F0FE;\n",
              "      --fill-color: #1967D2;\n",
              "      --hover-bg-color: #E2EBFA;\n",
              "      --hover-fill-color: #174EA6;\n",
              "      --disabled-fill-color: #AAA;\n",
              "      --disabled-bg-color: #DDD;\n",
              "  }\n",
              "\n",
              "  [theme=dark] .colab-df-quickchart {\n",
              "      --bg-color: #3B4455;\n",
              "      --fill-color: #D2E3FC;\n",
              "      --hover-bg-color: #434B5C;\n",
              "      --hover-fill-color: #FFFFFF;\n",
              "      --disabled-bg-color: #3B4455;\n",
              "      --disabled-fill-color: #666;\n",
              "  }\n",
              "\n",
              "  .colab-df-quickchart {\n",
              "    background-color: var(--bg-color);\n",
              "    border: none;\n",
              "    border-radius: 50%;\n",
              "    cursor: pointer;\n",
              "    display: none;\n",
              "    fill: var(--fill-color);\n",
              "    height: 32px;\n",
              "    padding: 0;\n",
              "    width: 32px;\n",
              "  }\n",
              "\n",
              "  .colab-df-quickchart:hover {\n",
              "    background-color: var(--hover-bg-color);\n",
              "    box-shadow: 0 1px 2px rgba(60, 64, 67, 0.3), 0 1px 3px 1px rgba(60, 64, 67, 0.15);\n",
              "    fill: var(--button-hover-fill-color);\n",
              "  }\n",
              "\n",
              "  .colab-df-quickchart-complete:disabled,\n",
              "  .colab-df-quickchart-complete:disabled:hover {\n",
              "    background-color: var(--disabled-bg-color);\n",
              "    fill: var(--disabled-fill-color);\n",
              "    box-shadow: none;\n",
              "  }\n",
              "\n",
              "  .colab-df-spinner {\n",
              "    border: 2px solid var(--fill-color);\n",
              "    border-color: transparent;\n",
              "    border-bottom-color: var(--fill-color);\n",
              "    animation:\n",
              "      spin 1s steps(1) infinite;\n",
              "  }\n",
              "\n",
              "  @keyframes spin {\n",
              "    0% {\n",
              "      border-color: transparent;\n",
              "      border-bottom-color: var(--fill-color);\n",
              "      border-left-color: var(--fill-color);\n",
              "    }\n",
              "    20% {\n",
              "      border-color: transparent;\n",
              "      border-left-color: var(--fill-color);\n",
              "      border-top-color: var(--fill-color);\n",
              "    }\n",
              "    30% {\n",
              "      border-color: transparent;\n",
              "      border-left-color: var(--fill-color);\n",
              "      border-top-color: var(--fill-color);\n",
              "      border-right-color: var(--fill-color);\n",
              "    }\n",
              "    40% {\n",
              "      border-color: transparent;\n",
              "      border-right-color: var(--fill-color);\n",
              "      border-top-color: var(--fill-color);\n",
              "    }\n",
              "    60% {\n",
              "      border-color: transparent;\n",
              "      border-right-color: var(--fill-color);\n",
              "    }\n",
              "    80% {\n",
              "      border-color: transparent;\n",
              "      border-right-color: var(--fill-color);\n",
              "      border-bottom-color: var(--fill-color);\n",
              "    }\n",
              "    90% {\n",
              "      border-color: transparent;\n",
              "      border-bottom-color: var(--fill-color);\n",
              "    }\n",
              "  }\n",
              "</style>\n",
              "\n",
              "  <script>\n",
              "    async function quickchart(key) {\n",
              "      const quickchartButtonEl =\n",
              "        document.querySelector('#' + key + ' button');\n",
              "      quickchartButtonEl.disabled = true;  // To prevent multiple clicks.\n",
              "      quickchartButtonEl.classList.add('colab-df-spinner');\n",
              "      try {\n",
              "        const charts = await google.colab.kernel.invokeFunction(\n",
              "            'suggestCharts', [key], {});\n",
              "      } catch (error) {\n",
              "        console.error('Error during call to suggestCharts:', error);\n",
              "      }\n",
              "      quickchartButtonEl.classList.remove('colab-df-spinner');\n",
              "      quickchartButtonEl.classList.add('colab-df-quickchart-complete');\n",
              "    }\n",
              "    (() => {\n",
              "      let quickchartButtonEl =\n",
              "        document.querySelector('#df-194567d9-6487-407a-ab70-2a70927159b8 button');\n",
              "      quickchartButtonEl.style.display =\n",
              "        google.colab.kernel.accessAllowed ? 'block' : 'none';\n",
              "    })();\n",
              "  </script>\n",
              "</div>\n",
              "    </div>\n",
              "  </div>\n"
            ],
            "application/vnd.google.colaboratory.intrinsic+json": {
              "type": "dataframe",
              "variable_name": "carsales",
              "summary": "{\n  \"name\": \"carsales\",\n  \"rows\": 157,\n  \"fields\": [\n    {\n      \"column\": \"Manufacturer\",\n      \"properties\": {\n        \"dtype\": \"category\",\n        \"num_unique_values\": 29,\n        \"samples\": [\n          \"Volkswagen\",\n          \"Mitsubishi\",\n          \"Jaguar\"\n        ],\n        \"semantic_type\": \"\",\n        \"description\": \"\"\n      }\n    },\n    {\n      \"column\": \"Model\",\n      \"properties\": {\n        \"dtype\": \"string\",\n        \"num_unique_values\": 155,\n        \"samples\": [\n          \"Galant\",\n          \"Land Cruiser\",\n          \"Cirrus\"\n        ],\n        \"semantic_type\": \"\",\n        \"description\": \"\"\n      }\n    },\n    {\n      \"column\": \"Sales_Unit\",\n      \"properties\": {\n        \"dtype\": \"number\",\n        \"std\": 120.12000638600149,\n        \"min\": 0.11,\n        \"max\": 954.0,\n        \"num_unique_values\": 157,\n        \"samples\": [\n          1.866,\n          181.749,\n          49.989\n        ],\n        \"semantic_type\": \"\",\n        \"description\": \"\"\n      }\n    },\n    {\n      \"column\": \"__year_resale_value\",\n      \"properties\": {\n        \"dtype\": \"number\",\n        \"std\": 12.313715562998764,\n        \"min\": 5.16,\n        \"max\": 67.55,\n        \"num_unique_values\": 153,\n        \"samples\": [\n          13.88,\n          13.89,\n          56.85\n        ],\n        \"semantic_type\": \"\",\n        \"description\": \"\"\n      }\n    },\n    {\n      \"column\": \"Vehicle_type\",\n      \"properties\": {\n        \"dtype\": \"category\",\n        \"num_unique_values\": 2,\n        \"samples\": [\n          \"Car\",\n          \"Passenger\"\n        ],\n        \"semantic_type\": \"\",\n        \"description\": \"\"\n      }\n    },\n    {\n      \"column\": \"Sale_Price\",\n      \"properties\": {\n        \"dtype\": \"number\",\n        \"std\": 14.418975670829257,\n        \"min\": 9.235,\n        \"max\": 85.5,\n        \"num_unique_values\": 154,\n        \"samples\": [\n          44.475,\n          82.6\n        ],\n        \"semantic_type\": \"\",\n        \"description\": \"\"\n      }\n    },\n    {\n      \"column\": \"Engine_size\",\n      \"properties\": {\n        \"dtype\": \"number\",\n        \"std\": 1.041888870633034,\n        \"min\": 1.0,\n        \"max\": 8.0,\n        \"num_unique_values\": 31,\n        \"samples\": [\n          4.3,\n          2.0\n        ],\n        \"semantic_type\": \"\",\n        \"description\": \"\"\n      }\n    },\n    {\n      \"column\": \"Horsepower\",\n      \"properties\": {\n        \"dtype\": \"number\",\n        \"std\": 56,\n        \"min\": 55,\n        \"max\": 450,\n        \"num_unique_values\": 66,\n        \"samples\": [\n          217,\n          127\n        ],\n        \"semantic_type\": \"\",\n        \"description\": \"\"\n      }\n    },\n    {\n      \"column\": \"Wheelbase\",\n      \"properties\": {\n        \"dtype\": \"number\",\n        \"std\": 7.6194119530665905,\n        \"min\": 92.6,\n        \"max\": 138.7,\n        \"num_unique_values\": 89,\n        \"samples\": [\n          138.5,\n          93.4\n        ],\n        \"semantic_type\": \"\",\n        \"description\": \"\"\n      }\n    },\n    {\n      \"column\": \"Width\",\n      \"properties\": {\n        \"dtype\": \"number\",\n        \"std\": 3.4420142400079405,\n        \"min\": 62.6,\n        \"max\": 79.9,\n        \"num_unique_values\": 79,\n        \"samples\": [\n          69.1,\n          67.3\n        ],\n        \"semantic_type\": \"\",\n        \"description\": \"\"\n      }\n    },\n    {\n      \"column\": \"Length\",\n      \"properties\": {\n        \"dtype\": \"number\",\n        \"std\": 13.406446914810582,\n        \"min\": 149.4,\n        \"max\": 224.5,\n        \"num_unique_values\": 128,\n        \"samples\": [\n          178.2,\n          193.5\n        ],\n        \"semantic_type\": \"\",\n        \"description\": \"\"\n      }\n    },\n    {\n      \"column\": \"Curb_weight\",\n      \"properties\": {\n        \"dtype\": \"number\",\n        \"std\": 0.6270945527972369,\n        \"min\": 1.895,\n        \"max\": 5.572,\n        \"num_unique_values\": 148,\n        \"samples\": [\n          2.332,\n          3.876\n        ],\n        \"semantic_type\": \"\",\n        \"description\": \"\"\n      }\n    },\n    {\n      \"column\": \"Fuel_capacity\",\n      \"properties\": {\n        \"dtype\": \"number\",\n        \"std\": 3.876184524428363,\n        \"min\": 10.3,\n        \"max\": 32.0,\n        \"num_unique_values\": 55,\n        \"samples\": [\n          21.1,\n          23.7\n        ],\n        \"semantic_type\": \"\",\n        \"description\": \"\"\n      }\n    },\n    {\n      \"column\": \"Fuel_efficiency\",\n      \"properties\": {\n        \"dtype\": \"number\",\n        \"std\": 4,\n        \"min\": 15,\n        \"max\": 45,\n        \"num_unique_values\": 20,\n        \"samples\": [\n          28,\n          32\n        ],\n        \"semantic_type\": \"\",\n        \"description\": \"\"\n      }\n    },\n    {\n      \"column\": \"Date\",\n      \"properties\": {\n        \"dtype\": \"object\",\n        \"num_unique_values\": 157,\n        \"samples\": [\n          \"5/7/2019\",\n          \"2/15/2019\"\n        ],\n        \"semantic_type\": \"\",\n        \"description\": \"\"\n      }\n    },\n    {\n      \"column\": \"Power_perf_factor\",\n      \"properties\": {\n        \"dtype\": \"string\",\n        \"num_unique_values\": 156,\n        \"samples\": [\n          \"8.280.736.193\",\n          \"8.038.777.912\"\n        ],\n        \"semantic_type\": \"\",\n        \"description\": \"\"\n      }\n    }\n  ]\n}"
            }
          },
          "metadata": {},
          "execution_count": 4
        }
      ],
      "source": [
        "carsales.head(10)"
      ]
    },
    {
      "cell_type": "code",
      "execution_count": 5,
      "metadata": {
        "colab": {
          "base_uri": "https://localhost:8080/"
        },
        "id": "NvFXE6fYRWP3",
        "outputId": "cde00225-b299-498d-c5c9-52dc765340a9"
      },
      "outputs": [
        {
          "output_type": "stream",
          "name": "stdout",
          "text": [
            "<class 'pandas.core.frame.DataFrame'>\n",
            "RangeIndex: 157 entries, 0 to 156\n",
            "Data columns (total 16 columns):\n",
            " #   Column               Non-Null Count  Dtype  \n",
            "---  ------               --------------  -----  \n",
            " 0   Manufacturer         157 non-null    object \n",
            " 1   Model                157 non-null    object \n",
            " 2   Sales_Unit           157 non-null    float64\n",
            " 3   __year_resale_value  157 non-null    float64\n",
            " 4   Vehicle_type         157 non-null    object \n",
            " 5   Sale_Price           157 non-null    float64\n",
            " 6   Engine_size          157 non-null    float64\n",
            " 7   Horsepower           157 non-null    int64  \n",
            " 8   Wheelbase            157 non-null    float64\n",
            " 9   Width                157 non-null    float64\n",
            " 10  Length               157 non-null    float64\n",
            " 11  Curb_weight          157 non-null    float64\n",
            " 12  Fuel_capacity        157 non-null    float64\n",
            " 13  Fuel_efficiency      157 non-null    int64  \n",
            " 14  Date                 157 non-null    object \n",
            " 15  Power_perf_factor    157 non-null    object \n",
            "dtypes: float64(9), int64(2), object(5)\n",
            "memory usage: 19.8+ KB\n"
          ]
        }
      ],
      "source": [
        "carsales.info()"
      ]
    },
    {
      "cell_type": "code",
      "execution_count": 6,
      "metadata": {
        "colab": {
          "base_uri": "https://localhost:8080/"
        },
        "id": "Oj0xj8LPRa6o",
        "outputId": "7a00b596-74bb-454d-d22a-13b52efc7ae6"
      },
      "outputs": [
        {
          "output_type": "execute_result",
          "data": {
            "text/plain": [
              "(157, 16)"
            ]
          },
          "metadata": {},
          "execution_count": 6
        }
      ],
      "source": [
        "carsales.shape"
      ]
    },
    {
      "cell_type": "code",
      "execution_count": 7,
      "metadata": {
        "colab": {
          "base_uri": "https://localhost:8080/",
          "height": 320
        },
        "id": "pvOwQuumRRL5",
        "outputId": "1d17760b-2b9d-4013-912a-3259588ce36b"
      },
      "outputs": [
        {
          "output_type": "execute_result",
          "data": {
            "text/plain": [
              "       Sales_Unit  __year_resale_value  Sale_Price  Engine_size  Horsepower  \\\n",
              "count  157.000000           157.000000  157.000000   157.000000  157.000000   \n",
              "mean    64.896994            19.225732   27.548962     3.063694  186.356688   \n",
              "std    120.120006            12.313716   14.418976     1.041889   56.748999   \n",
              "min      0.110000             5.160000    9.235000     1.000000   55.000000   \n",
              "25%     14.690000            12.250000   18.145000     2.300000  150.000000   \n",
              "50%     31.038000            15.380000   23.400000     3.000000  180.000000   \n",
              "75%     70.227000            20.190000   31.965000     3.500000  215.000000   \n",
              "max    954.000000            67.550000   85.500000     8.000000  450.000000   \n",
              "\n",
              "        Wheelbase       Width      Length  Curb_weight  Fuel_capacity  \\\n",
              "count  157.000000  157.000000  157.000000   157.000000     157.000000   \n",
              "mean   107.503185   71.142675  187.398726     3.378134      17.945860   \n",
              "std      7.619412    3.442014   13.406447     0.627095       3.876185   \n",
              "min     92.600000   62.600000  149.400000     1.895000      10.300000   \n",
              "25%    103.000000   68.400000  177.600000     2.975000      15.800000   \n",
              "50%    107.000000   70.500000  188.000000     3.342000      17.200000   \n",
              "75%    112.200000   73.400000  196.100000     3.778000      19.500000   \n",
              "max    138.700000   79.900000  224.500000     5.572000      32.000000   \n",
              "\n",
              "       Fuel_efficiency  \n",
              "count       157.000000  \n",
              "mean         23.840764  \n",
              "std           4.249449  \n",
              "min          15.000000  \n",
              "25%          21.000000  \n",
              "50%          24.000000  \n",
              "75%          26.000000  \n",
              "max          45.000000  "
            ],
            "text/html": [
              "\n",
              "  <div id=\"df-5a498018-a528-4fa0-b1ba-b45aa8d575cf\" class=\"colab-df-container\">\n",
              "    <div>\n",
              "<style scoped>\n",
              "    .dataframe tbody tr th:only-of-type {\n",
              "        vertical-align: middle;\n",
              "    }\n",
              "\n",
              "    .dataframe tbody tr th {\n",
              "        vertical-align: top;\n",
              "    }\n",
              "\n",
              "    .dataframe thead th {\n",
              "        text-align: right;\n",
              "    }\n",
              "</style>\n",
              "<table border=\"1\" class=\"dataframe\">\n",
              "  <thead>\n",
              "    <tr style=\"text-align: right;\">\n",
              "      <th></th>\n",
              "      <th>Sales_Unit</th>\n",
              "      <th>__year_resale_value</th>\n",
              "      <th>Sale_Price</th>\n",
              "      <th>Engine_size</th>\n",
              "      <th>Horsepower</th>\n",
              "      <th>Wheelbase</th>\n",
              "      <th>Width</th>\n",
              "      <th>Length</th>\n",
              "      <th>Curb_weight</th>\n",
              "      <th>Fuel_capacity</th>\n",
              "      <th>Fuel_efficiency</th>\n",
              "    </tr>\n",
              "  </thead>\n",
              "  <tbody>\n",
              "    <tr>\n",
              "      <th>count</th>\n",
              "      <td>157.000000</td>\n",
              "      <td>157.000000</td>\n",
              "      <td>157.000000</td>\n",
              "      <td>157.000000</td>\n",
              "      <td>157.000000</td>\n",
              "      <td>157.000000</td>\n",
              "      <td>157.000000</td>\n",
              "      <td>157.000000</td>\n",
              "      <td>157.000000</td>\n",
              "      <td>157.000000</td>\n",
              "      <td>157.000000</td>\n",
              "    </tr>\n",
              "    <tr>\n",
              "      <th>mean</th>\n",
              "      <td>64.896994</td>\n",
              "      <td>19.225732</td>\n",
              "      <td>27.548962</td>\n",
              "      <td>3.063694</td>\n",
              "      <td>186.356688</td>\n",
              "      <td>107.503185</td>\n",
              "      <td>71.142675</td>\n",
              "      <td>187.398726</td>\n",
              "      <td>3.378134</td>\n",
              "      <td>17.945860</td>\n",
              "      <td>23.840764</td>\n",
              "    </tr>\n",
              "    <tr>\n",
              "      <th>std</th>\n",
              "      <td>120.120006</td>\n",
              "      <td>12.313716</td>\n",
              "      <td>14.418976</td>\n",
              "      <td>1.041889</td>\n",
              "      <td>56.748999</td>\n",
              "      <td>7.619412</td>\n",
              "      <td>3.442014</td>\n",
              "      <td>13.406447</td>\n",
              "      <td>0.627095</td>\n",
              "      <td>3.876185</td>\n",
              "      <td>4.249449</td>\n",
              "    </tr>\n",
              "    <tr>\n",
              "      <th>min</th>\n",
              "      <td>0.110000</td>\n",
              "      <td>5.160000</td>\n",
              "      <td>9.235000</td>\n",
              "      <td>1.000000</td>\n",
              "      <td>55.000000</td>\n",
              "      <td>92.600000</td>\n",
              "      <td>62.600000</td>\n",
              "      <td>149.400000</td>\n",
              "      <td>1.895000</td>\n",
              "      <td>10.300000</td>\n",
              "      <td>15.000000</td>\n",
              "    </tr>\n",
              "    <tr>\n",
              "      <th>25%</th>\n",
              "      <td>14.690000</td>\n",
              "      <td>12.250000</td>\n",
              "      <td>18.145000</td>\n",
              "      <td>2.300000</td>\n",
              "      <td>150.000000</td>\n",
              "      <td>103.000000</td>\n",
              "      <td>68.400000</td>\n",
              "      <td>177.600000</td>\n",
              "      <td>2.975000</td>\n",
              "      <td>15.800000</td>\n",
              "      <td>21.000000</td>\n",
              "    </tr>\n",
              "    <tr>\n",
              "      <th>50%</th>\n",
              "      <td>31.038000</td>\n",
              "      <td>15.380000</td>\n",
              "      <td>23.400000</td>\n",
              "      <td>3.000000</td>\n",
              "      <td>180.000000</td>\n",
              "      <td>107.000000</td>\n",
              "      <td>70.500000</td>\n",
              "      <td>188.000000</td>\n",
              "      <td>3.342000</td>\n",
              "      <td>17.200000</td>\n",
              "      <td>24.000000</td>\n",
              "    </tr>\n",
              "    <tr>\n",
              "      <th>75%</th>\n",
              "      <td>70.227000</td>\n",
              "      <td>20.190000</td>\n",
              "      <td>31.965000</td>\n",
              "      <td>3.500000</td>\n",
              "      <td>215.000000</td>\n",
              "      <td>112.200000</td>\n",
              "      <td>73.400000</td>\n",
              "      <td>196.100000</td>\n",
              "      <td>3.778000</td>\n",
              "      <td>19.500000</td>\n",
              "      <td>26.000000</td>\n",
              "    </tr>\n",
              "    <tr>\n",
              "      <th>max</th>\n",
              "      <td>954.000000</td>\n",
              "      <td>67.550000</td>\n",
              "      <td>85.500000</td>\n",
              "      <td>8.000000</td>\n",
              "      <td>450.000000</td>\n",
              "      <td>138.700000</td>\n",
              "      <td>79.900000</td>\n",
              "      <td>224.500000</td>\n",
              "      <td>5.572000</td>\n",
              "      <td>32.000000</td>\n",
              "      <td>45.000000</td>\n",
              "    </tr>\n",
              "  </tbody>\n",
              "</table>\n",
              "</div>\n",
              "    <div class=\"colab-df-buttons\">\n",
              "\n",
              "  <div class=\"colab-df-container\">\n",
              "    <button class=\"colab-df-convert\" onclick=\"convertToInteractive('df-5a498018-a528-4fa0-b1ba-b45aa8d575cf')\"\n",
              "            title=\"Convert this dataframe to an interactive table.\"\n",
              "            style=\"display:none;\">\n",
              "\n",
              "  <svg xmlns=\"http://www.w3.org/2000/svg\" height=\"24px\" viewBox=\"0 -960 960 960\">\n",
              "    <path d=\"M120-120v-720h720v720H120Zm60-500h600v-160H180v160Zm220 220h160v-160H400v160Zm0 220h160v-160H400v160ZM180-400h160v-160H180v160Zm440 0h160v-160H620v160ZM180-180h160v-160H180v160Zm440 0h160v-160H620v160Z\"/>\n",
              "  </svg>\n",
              "    </button>\n",
              "\n",
              "  <style>\n",
              "    .colab-df-container {\n",
              "      display:flex;\n",
              "      gap: 12px;\n",
              "    }\n",
              "\n",
              "    .colab-df-convert {\n",
              "      background-color: #E8F0FE;\n",
              "      border: none;\n",
              "      border-radius: 50%;\n",
              "      cursor: pointer;\n",
              "      display: none;\n",
              "      fill: #1967D2;\n",
              "      height: 32px;\n",
              "      padding: 0 0 0 0;\n",
              "      width: 32px;\n",
              "    }\n",
              "\n",
              "    .colab-df-convert:hover {\n",
              "      background-color: #E2EBFA;\n",
              "      box-shadow: 0px 1px 2px rgba(60, 64, 67, 0.3), 0px 1px 3px 1px rgba(60, 64, 67, 0.15);\n",
              "      fill: #174EA6;\n",
              "    }\n",
              "\n",
              "    .colab-df-buttons div {\n",
              "      margin-bottom: 4px;\n",
              "    }\n",
              "\n",
              "    [theme=dark] .colab-df-convert {\n",
              "      background-color: #3B4455;\n",
              "      fill: #D2E3FC;\n",
              "    }\n",
              "\n",
              "    [theme=dark] .colab-df-convert:hover {\n",
              "      background-color: #434B5C;\n",
              "      box-shadow: 0px 1px 3px 1px rgba(0, 0, 0, 0.15);\n",
              "      filter: drop-shadow(0px 1px 2px rgba(0, 0, 0, 0.3));\n",
              "      fill: #FFFFFF;\n",
              "    }\n",
              "  </style>\n",
              "\n",
              "    <script>\n",
              "      const buttonEl =\n",
              "        document.querySelector('#df-5a498018-a528-4fa0-b1ba-b45aa8d575cf button.colab-df-convert');\n",
              "      buttonEl.style.display =\n",
              "        google.colab.kernel.accessAllowed ? 'block' : 'none';\n",
              "\n",
              "      async function convertToInteractive(key) {\n",
              "        const element = document.querySelector('#df-5a498018-a528-4fa0-b1ba-b45aa8d575cf');\n",
              "        const dataTable =\n",
              "          await google.colab.kernel.invokeFunction('convertToInteractive',\n",
              "                                                    [key], {});\n",
              "        if (!dataTable) return;\n",
              "\n",
              "        const docLinkHtml = 'Like what you see? Visit the ' +\n",
              "          '<a target=\"_blank\" href=https://colab.research.google.com/notebooks/data_table.ipynb>data table notebook</a>'\n",
              "          + ' to learn more about interactive tables.';\n",
              "        element.innerHTML = '';\n",
              "        dataTable['output_type'] = 'display_data';\n",
              "        await google.colab.output.renderOutput(dataTable, element);\n",
              "        const docLink = document.createElement('div');\n",
              "        docLink.innerHTML = docLinkHtml;\n",
              "        element.appendChild(docLink);\n",
              "      }\n",
              "    </script>\n",
              "  </div>\n",
              "\n",
              "\n",
              "<div id=\"df-2d3dc58d-f9a2-4626-966d-46cb02504b16\">\n",
              "  <button class=\"colab-df-quickchart\" onclick=\"quickchart('df-2d3dc58d-f9a2-4626-966d-46cb02504b16')\"\n",
              "            title=\"Suggest charts\"\n",
              "            style=\"display:none;\">\n",
              "\n",
              "<svg xmlns=\"http://www.w3.org/2000/svg\" height=\"24px\"viewBox=\"0 0 24 24\"\n",
              "     width=\"24px\">\n",
              "    <g>\n",
              "        <path d=\"M19 3H5c-1.1 0-2 .9-2 2v14c0 1.1.9 2 2 2h14c1.1 0 2-.9 2-2V5c0-1.1-.9-2-2-2zM9 17H7v-7h2v7zm4 0h-2V7h2v10zm4 0h-2v-4h2v4z\"/>\n",
              "    </g>\n",
              "</svg>\n",
              "  </button>\n",
              "\n",
              "<style>\n",
              "  .colab-df-quickchart {\n",
              "      --bg-color: #E8F0FE;\n",
              "      --fill-color: #1967D2;\n",
              "      --hover-bg-color: #E2EBFA;\n",
              "      --hover-fill-color: #174EA6;\n",
              "      --disabled-fill-color: #AAA;\n",
              "      --disabled-bg-color: #DDD;\n",
              "  }\n",
              "\n",
              "  [theme=dark] .colab-df-quickchart {\n",
              "      --bg-color: #3B4455;\n",
              "      --fill-color: #D2E3FC;\n",
              "      --hover-bg-color: #434B5C;\n",
              "      --hover-fill-color: #FFFFFF;\n",
              "      --disabled-bg-color: #3B4455;\n",
              "      --disabled-fill-color: #666;\n",
              "  }\n",
              "\n",
              "  .colab-df-quickchart {\n",
              "    background-color: var(--bg-color);\n",
              "    border: none;\n",
              "    border-radius: 50%;\n",
              "    cursor: pointer;\n",
              "    display: none;\n",
              "    fill: var(--fill-color);\n",
              "    height: 32px;\n",
              "    padding: 0;\n",
              "    width: 32px;\n",
              "  }\n",
              "\n",
              "  .colab-df-quickchart:hover {\n",
              "    background-color: var(--hover-bg-color);\n",
              "    box-shadow: 0 1px 2px rgba(60, 64, 67, 0.3), 0 1px 3px 1px rgba(60, 64, 67, 0.15);\n",
              "    fill: var(--button-hover-fill-color);\n",
              "  }\n",
              "\n",
              "  .colab-df-quickchart-complete:disabled,\n",
              "  .colab-df-quickchart-complete:disabled:hover {\n",
              "    background-color: var(--disabled-bg-color);\n",
              "    fill: var(--disabled-fill-color);\n",
              "    box-shadow: none;\n",
              "  }\n",
              "\n",
              "  .colab-df-spinner {\n",
              "    border: 2px solid var(--fill-color);\n",
              "    border-color: transparent;\n",
              "    border-bottom-color: var(--fill-color);\n",
              "    animation:\n",
              "      spin 1s steps(1) infinite;\n",
              "  }\n",
              "\n",
              "  @keyframes spin {\n",
              "    0% {\n",
              "      border-color: transparent;\n",
              "      border-bottom-color: var(--fill-color);\n",
              "      border-left-color: var(--fill-color);\n",
              "    }\n",
              "    20% {\n",
              "      border-color: transparent;\n",
              "      border-left-color: var(--fill-color);\n",
              "      border-top-color: var(--fill-color);\n",
              "    }\n",
              "    30% {\n",
              "      border-color: transparent;\n",
              "      border-left-color: var(--fill-color);\n",
              "      border-top-color: var(--fill-color);\n",
              "      border-right-color: var(--fill-color);\n",
              "    }\n",
              "    40% {\n",
              "      border-color: transparent;\n",
              "      border-right-color: var(--fill-color);\n",
              "      border-top-color: var(--fill-color);\n",
              "    }\n",
              "    60% {\n",
              "      border-color: transparent;\n",
              "      border-right-color: var(--fill-color);\n",
              "    }\n",
              "    80% {\n",
              "      border-color: transparent;\n",
              "      border-right-color: var(--fill-color);\n",
              "      border-bottom-color: var(--fill-color);\n",
              "    }\n",
              "    90% {\n",
              "      border-color: transparent;\n",
              "      border-bottom-color: var(--fill-color);\n",
              "    }\n",
              "  }\n",
              "</style>\n",
              "\n",
              "  <script>\n",
              "    async function quickchart(key) {\n",
              "      const quickchartButtonEl =\n",
              "        document.querySelector('#' + key + ' button');\n",
              "      quickchartButtonEl.disabled = true;  // To prevent multiple clicks.\n",
              "      quickchartButtonEl.classList.add('colab-df-spinner');\n",
              "      try {\n",
              "        const charts = await google.colab.kernel.invokeFunction(\n",
              "            'suggestCharts', [key], {});\n",
              "      } catch (error) {\n",
              "        console.error('Error during call to suggestCharts:', error);\n",
              "      }\n",
              "      quickchartButtonEl.classList.remove('colab-df-spinner');\n",
              "      quickchartButtonEl.classList.add('colab-df-quickchart-complete');\n",
              "    }\n",
              "    (() => {\n",
              "      let quickchartButtonEl =\n",
              "        document.querySelector('#df-2d3dc58d-f9a2-4626-966d-46cb02504b16 button');\n",
              "      quickchartButtonEl.style.display =\n",
              "        google.colab.kernel.accessAllowed ? 'block' : 'none';\n",
              "    })();\n",
              "  </script>\n",
              "</div>\n",
              "    </div>\n",
              "  </div>\n"
            ],
            "application/vnd.google.colaboratory.intrinsic+json": {
              "type": "dataframe",
              "summary": "{\n  \"name\": \"carsales\",\n  \"rows\": 8,\n  \"fields\": [\n    {\n      \"column\": \"Sales_Unit\",\n      \"properties\": {\n        \"dtype\": \"number\",\n        \"std\": 318.5389606229194,\n        \"min\": 0.11,\n        \"max\": 954.0,\n        \"num_unique_values\": 8,\n        \"samples\": [\n          64.89699363057326,\n          31.038,\n          157.0\n        ],\n        \"semantic_type\": \"\",\n        \"description\": \"\"\n      }\n    },\n    {\n      \"column\": \"__year_resale_value\",\n      \"properties\": {\n        \"dtype\": \"number\",\n        \"std\": 51.56637472506429,\n        \"min\": 5.16,\n        \"max\": 157.0,\n        \"num_unique_values\": 8,\n        \"samples\": [\n          19.22573248407643,\n          15.38,\n          157.0\n        ],\n        \"semantic_type\": \"\",\n        \"description\": \"\"\n      }\n    },\n    {\n      \"column\": \"Sale_Price\",\n      \"properties\": {\n        \"dtype\": \"number\",\n        \"std\": 50.785658760994565,\n        \"min\": 9.235,\n        \"max\": 157.0,\n        \"num_unique_values\": 8,\n        \"samples\": [\n          27.54896178343949,\n          23.4,\n          157.0\n        ],\n        \"semantic_type\": \"\",\n        \"description\": \"\"\n      }\n    },\n    {\n      \"column\": \"Engine_size\",\n      \"properties\": {\n        \"dtype\": \"number\",\n        \"std\": 54.44539964199181,\n        \"min\": 1.0,\n        \"max\": 157.0,\n        \"num_unique_values\": 8,\n        \"samples\": [\n          3.0636942675159236,\n          3.0,\n          157.0\n        ],\n        \"semantic_type\": \"\",\n        \"description\": \"\"\n      }\n    },\n    {\n      \"column\": \"Horsepower\",\n      \"properties\": {\n        \"dtype\": \"number\",\n        \"std\": 123.28680333083679,\n        \"min\": 55.0,\n        \"max\": 450.0,\n        \"num_unique_values\": 8,\n        \"samples\": [\n          186.35668789808918,\n          180.0,\n          157.0\n        ],\n        \"semantic_type\": \"\",\n        \"description\": \"\"\n      }\n    },\n    {\n      \"column\": \"Wheelbase\",\n      \"properties\": {\n        \"dtype\": \"number\",\n        \"std\": 43.94265117538159,\n        \"min\": 7.6194119530665905,\n        \"max\": 157.0,\n        \"num_unique_values\": 8,\n        \"samples\": [\n          107.50318471337577,\n          107.0,\n          157.0\n        ],\n        \"semantic_type\": \"\",\n        \"description\": \"\"\n      }\n    },\n    {\n      \"column\": \"Width\",\n      \"properties\": {\n        \"dtype\": \"number\",\n        \"std\": 41.54239176622568,\n        \"min\": 3.4420142400079405,\n        \"max\": 157.0,\n        \"num_unique_values\": 8,\n        \"samples\": [\n          71.14267515923568,\n          70.5,\n          157.0\n        ],\n        \"semantic_type\": \"\",\n        \"description\": \"\"\n      }\n    },\n    {\n      \"column\": \"Length\",\n      \"properties\": {\n        \"dtype\": \"number\",\n        \"std\": 64.25004465351657,\n        \"min\": 13.406446914810582,\n        \"max\": 224.5,\n        \"num_unique_values\": 8,\n        \"samples\": [\n          187.3987261146497,\n          188.0,\n          157.0\n        ],\n        \"semantic_type\": \"\",\n        \"description\": \"\"\n      }\n    },\n    {\n      \"column\": \"Curb_weight\",\n      \"properties\": {\n        \"dtype\": \"number\",\n        \"std\": 54.437322069830905,\n        \"min\": 0.6270945527972369,\n        \"max\": 157.0,\n        \"num_unique_values\": 8,\n        \"samples\": [\n          3.378133757961783,\n          3.342,\n          157.0\n        ],\n        \"semantic_type\": \"\",\n        \"description\": \"\"\n      }\n    },\n    {\n      \"column\": \"Fuel_capacity\",\n      \"properties\": {\n        \"dtype\": \"number\",\n        \"std\": 50.261133515062916,\n        \"min\": 3.876184524428363,\n        \"max\": 157.0,\n        \"num_unique_values\": 8,\n        \"samples\": [\n          17.945859872611464,\n          17.2,\n          157.0\n        ],\n        \"semantic_type\": \"\",\n        \"description\": \"\"\n      }\n    },\n    {\n      \"column\": \"Fuel_efficiency\",\n      \"properties\": {\n        \"dtype\": \"number\",\n        \"std\": 48.82814177863613,\n        \"min\": 4.249448763859649,\n        \"max\": 157.0,\n        \"num_unique_values\": 8,\n        \"samples\": [\n          23.840764331210192,\n          24.0,\n          157.0\n        ],\n        \"semantic_type\": \"\",\n        \"description\": \"\"\n      }\n    }\n  ]\n}"
            }
          },
          "metadata": {},
          "execution_count": 7
        }
      ],
      "source": [
        "carsales.describe()"
      ]
    },
    {
      "cell_type": "markdown",
      "metadata": {
        "id": "nSdWhjFPRDAn"
      },
      "source": [
        "# **Data Cleaning**"
      ]
    },
    {
      "cell_type": "code",
      "execution_count": 8,
      "metadata": {
        "colab": {
          "base_uri": "https://localhost:8080/"
        },
        "id": "YZxRXHiJRrwg",
        "outputId": "acfbe3a3-d122-46d7-b768-b39f1e5faf03"
      },
      "outputs": [
        {
          "output_type": "stream",
          "name": "stdout",
          "text": [
            "Manufacturer           0\n",
            "Model                  0\n",
            "Sales_Unit             0\n",
            "__year_resale_value    0\n",
            "Vehicle_type           0\n",
            "Sale_Price             0\n",
            "Engine_size            0\n",
            "Horsepower             0\n",
            "Wheelbase              0\n",
            "Width                  0\n",
            "Length                 0\n",
            "Curb_weight            0\n",
            "Fuel_capacity          0\n",
            "Fuel_efficiency        0\n",
            "Date                   0\n",
            "Power_perf_factor      0\n",
            "dtype: int64\n"
          ]
        }
      ],
      "source": [
        "# Pemeriksaan missing value\n",
        "missing_values = carsales.isnull().sum()\n",
        "print(missing_values)"
      ]
    },
    {
      "cell_type": "code",
      "execution_count": 9,
      "metadata": {
        "colab": {
          "base_uri": "https://localhost:8080/"
        },
        "id": "PV-MqvxKSdgf",
        "outputId": "285d9db0-7dcf-47e6-f2fd-d453194bb09f"
      },
      "outputs": [
        {
          "output_type": "stream",
          "name": "stdout",
          "text": [
            "Jumlah duplikat data:\n",
            "0\n"
          ]
        }
      ],
      "source": [
        "duplicate_rows = carsales[carsales.duplicated()]\n",
        "print(\"Jumlah duplikat data:\")\n",
        "print(len(duplicate_rows))"
      ]
    },
    {
      "cell_type": "code",
      "execution_count": 10,
      "metadata": {
        "colab": {
          "base_uri": "https://localhost:8080/",
          "height": 481
        },
        "id": "4e_Y27upSlzM",
        "outputId": "5980357d-c7ec-4dc5-94bb-3b95550111ad"
      },
      "outputs": [
        {
          "output_type": "display_data",
          "data": {
            "text/plain": [
              "<Figure size 1000x600 with 1 Axes>"
            ],
            "image/png": "[encoded data removed]"
          },
          "metadata": {}
        }
      ],
      "source": [
        "# Menganalisis outlier menggunakan boxplot\n",
        "plt.figure(figsize=(10, 6))\n",
        "# Memastikan kolom 'Outcome' ada dalam dataset\n",
        "if 'Outcome' in carsales.columns:\n",
        "    sns.boxplot(data=carsales.drop(columns='Outcome'))\n",
        "else:\n",
        "    sns.boxplot(data=carsales)\n",
        "plt.title('Boxplot untuk Fitur-Fitur Dataset')\n",
        "plt.xticks(rotation=45)\n",
        "plt.show()"
      ]
    },
    {
      "cell_type": "code",
      "execution_count": 11,
      "metadata": {
        "colab": {
          "base_uri": "https://localhost:8080/"
        },
        "id": "-wPF3oqLS5Jz",
        "outputId": "85fdada4-68e9-44e8-bcfa-0f1dce9f588a"
      },
      "outputs": [
        {
          "output_type": "stream",
          "name": "stdout",
          "text": [
            "Manufacturer                   object\n",
            "Model                          object\n",
            "Sales_Unit                    float64\n",
            "__year_resale_value           float64\n",
            "Vehicle_type                   object\n",
            "Sale_Price                    float64\n",
            "Engine_size                   float64\n",
            "Horsepower                      int64\n",
            "Wheelbase                     float64\n",
            "Width                         float64\n",
            "Length                        float64\n",
            "Curb_weight                   float64\n",
            "Fuel_capacity                 float64\n",
            "Fuel_efficiency                 int64\n",
            "Date                   datetime64[ns]\n",
            "Power_perf_factor              object\n",
            "sale_month                     object\n",
            "dtype: object\n"
          ]
        }
      ],
      "source": [
        "carsales['Date'] = pd.to_datetime(carsales['Date'])\n",
        "carsales['sale_month']= carsales['Date'].dt.month_name()\n",
        "print(carsales.dtypes)"
      ]
    },
    {
      "cell_type": "code",
      "execution_count": 12,
      "metadata": {
        "colab": {
          "base_uri": "https://localhost:8080/",
          "height": 313
        },
        "id": "7ByEJy7X0Xj7",
        "outputId": "590d1d2a-1a26-4d1f-fe84-50b5c370a1b0"
      },
      "outputs": [
        {
          "output_type": "execute_result",
          "data": {
            "text/plain": [
              "  Manufacturer    Model  Sales_Unit  __year_resale_value Vehicle_type  \\\n",
              "0        Acura  Integra      16.919               16.360    Passenger   \n",
              "1        Acura       TL      39.384               19.875    Passenger   \n",
              "2        Acura       CL      14.114               18.225    Passenger   \n",
              "3        Acura       RL       8.588               29.725    Passenger   \n",
              "4         Audi       A4      20.397               22.255    Passenger   \n",
              "\n",
              "   Sale_Price  Engine_size  Horsepower  Wheelbase  Width  Length  Curb_weight  \\\n",
              "0       21.50          1.8         140      101.2   67.3   172.4        2.639   \n",
              "1       28.40          3.2         225      108.1   70.3   192.9        3.517   \n",
              "2       25.50          3.2         225      106.9   70.6   192.0        3.470   \n",
              "3       42.00          3.5         210      114.6   71.4   196.6        3.850   \n",
              "4       23.99          1.8         150      102.6   68.2   178.0        2.998   \n",
              "\n",
              "   Fuel_capacity  Fuel_efficiency       Date Power_perf_factor sale_month  \n",
              "0           13.2               28 2019-01-01     5.828.014.952    January  \n",
              "1           17.2               25 2019-01-02     9.137.077.766    January  \n",
              "2           17.2               26 2019-01-03     8.435.131.532    January  \n",
              "3           18.0               22 2019-01-04     9.138.977.933    January  \n",
              "4           16.4               27 2019-01-05       627.776.392    January  "
            ],
            "text/html": [
              "\n",
              "  <div id=\"df-3fc4040f-c4e3-47ab-8ebb-cbc9474e5165\" class=\"colab-df-container\">\n",
              "    <div>\n",
              "<style scoped>\n",
              "    .dataframe tbody tr th:only-of-type {\n",
              "        vertical-align: middle;\n",
              "    }\n",
              "\n",
              "    .dataframe tbody tr th {\n",
              "        vertical-align: top;\n",
              "    }\n",
              "\n",
              "    .dataframe thead th {\n",
              "        text-align: right;\n",
              "    }\n",
              "</style>\n",
              "<table border=\"1\" class=\"dataframe\">\n",
              "  <thead>\n",
              "    <tr style=\"text-align: right;\">\n",
              "      <th></th>\n",
              "      <th>Manufacturer</th>\n",
              "      <th>Model</th>\n",
              "      <th>Sales_Unit</th>\n",
              "      <th>__year_resale_value</th>\n",
              "      <th>Vehicle_type</th>\n",
              "      <th>Sale_Price</th>\n",
              "      <th>Engine_size</th>\n",
              "      <th>Horsepower</th>\n",
              "      <th>Wheelbase</th>\n",
              "      <th>Width</th>\n",
              "      <th>Length</th>\n",
              "      <th>Curb_weight</th>\n",
              "      <th>Fuel_capacity</th>\n",
              "      <th>Fuel_efficiency</th>\n",
              "      <th>Date</th>\n",
              "      <th>Power_perf_factor</th>\n",
              "      <th>sale_month</th>\n",
              "    </tr>\n",
              "  </thead>\n",
              "  <tbody>\n",
              "    <tr>\n",
              "      <th>0</th>\n",
              "      <td>Acura</td>\n",
              "      <td>Integra</td>\n",
              "      <td>16.919</td>\n",
              "      <td>16.360</td>\n",
              "      <td>Passenger</td>\n",
              "      <td>21.50</td>\n",
              "      <td>1.8</td>\n",
              "      <td>140</td>\n",
              "      <td>101.2</td>\n",
              "      <td>67.3</td>\n",
              "      <td>172.4</td>\n",
              "      <td>2.639</td>\n",
              "      <td>13.2</td>\n",
              "      <td>28</td>\n",
              "      <td>2019-01-01</td>\n",
              "      <td>5.828.014.952</td>\n",
              "      <td>January</td>\n",
              "    </tr>\n",
              "    <tr>\n",
              "      <th>1</th>\n",
              "      <td>Acura</td>\n",
              "      <td>TL</td>\n",
              "      <td>39.384</td>\n",
              "      <td>19.875</td>\n",
              "      <td>Passenger</td>\n",
              "      <td>28.40</td>\n",
              "      <td>3.2</td>\n",
              "      <td>225</td>\n",
              "      <td>108.1</td>\n",
              "      <td>70.3</td>\n",
              "      <td>192.9</td>\n",
              "      <td>3.517</td>\n",
              "      <td>17.2</td>\n",
              "      <td>25</td>\n",
              "      <td>2019-01-02</td>\n",
              "      <td>9.137.077.766</td>\n",
              "      <td>January</td>\n",
              "    </tr>\n",
              "    <tr>\n",
              "      <th>2</th>\n",
              "      <td>Acura</td>\n",
              "      <td>CL</td>\n",
              "      <td>14.114</td>\n",
              "      <td>18.225</td>\n",
              "      <td>Passenger</td>\n",
              "      <td>25.50</td>\n",
              "      <td>3.2</td>\n",
              "      <td>225</td>\n",
              "      <td>106.9</td>\n",
              "      <td>70.6</td>\n",
              "      <td>192.0</td>\n",
              "      <td>3.470</td>\n",
              "      <td>17.2</td>\n",
              "      <td>26</td>\n",
              "      <td>2019-01-03</td>\n",
              "      <td>8.435.131.532</td>\n",
              "      <td>January</td>\n",
              "    </tr>\n",
              "    <tr>\n",
              "      <th>3</th>\n",
              "      <td>Acura</td>\n",
              "      <td>RL</td>\n",
              "      <td>8.588</td>\n",
              "      <td>29.725</td>\n",
              "      <td>Passenger</td>\n",
              "      <td>42.00</td>\n",
              "      <td>3.5</td>\n",
              "      <td>210</td>\n",
              "      <td>114.6</td>\n",
              "      <td>71.4</td>\n",
              "      <td>196.6</td>\n",
              "      <td>3.850</td>\n",
              "      <td>18.0</td>\n",
              "      <td>22</td>\n",
              "      <td>2019-01-04</td>\n",
              "      <td>9.138.977.933</td>\n",
              "      <td>January</td>\n",
              "    </tr>\n",
              "    <tr>\n",
              "      <th>4</th>\n",
              "      <td>Audi</td>\n",
              "      <td>A4</td>\n",
              "      <td>20.397</td>\n",
              "      <td>22.255</td>\n",
              "      <td>Passenger</td>\n",
              "      <td>23.99</td>\n",
              "      <td>1.8</td>\n",
              "      <td>150</td>\n",
              "      <td>102.6</td>\n",
              "      <td>68.2</td>\n",
              "      <td>178.0</td>\n",
              "      <td>2.998</td>\n",
              "      <td>16.4</td>\n",
              "      <td>27</td>\n",
              "      <td>2019-01-05</td>\n",
              "      <td>627.776.392</td>\n",
              "      <td>January</td>\n",
              "    </tr>\n",
              "  </tbody>\n",
              "</table>\n",
              "</div>\n",
              "    <div class=\"colab-df-buttons\">\n",
              "\n",
              "  <div class=\"colab-df-container\">\n",
              "    <button class=\"colab-df-convert\" onclick=\"convertToInteractive('df-3fc4040f-c4e3-47ab-8ebb-cbc9474e5165')\"\n",
              "            title=\"Convert this dataframe to an interactive table.\"\n",
              "            style=\"display:none;\">\n",
              "\n",
              "  <svg xmlns=\"http://www.w3.org/2000/svg\" height=\"24px\" viewBox=\"0 -960 960 960\">\n",
              "    <path d=\"M120-120v-720h720v720H120Zm60-500h600v-160H180v160Zm220 220h160v-160H400v160Zm0 220h160v-160H400v160ZM180-400h160v-160H180v160Zm440 0h160v-160H620v160ZM180-180h160v-160H180v160Zm440 0h160v-160H620v160Z\"/>\n",
              "  </svg>\n",
              "    </button>\n",
              "\n",
              "  <style>\n",
              "    .colab-df-container {\n",
              "      display:flex;\n",
              "      gap: 12px;\n",
              "    }\n",
              "\n",
              "    .colab-df-convert {\n",
              "      background-color: #E8F0FE;\n",
              "      border: none;\n",
              "      border-radius: 50%;\n",
              "      cursor: pointer;\n",
              "      display: none;\n",
              "      fill: #1967D2;\n",
              "      height: 32px;\n",
              "      padding: 0 0 0 0;\n",
              "      width: 32px;\n",
              "    }\n",
              "\n",
              "    .colab-df-convert:hover {\n",
              "      background-color: #E2EBFA;\n",
              "      box-shadow: 0px 1px 2px rgba(60, 64, 67, 0.3), 0px 1px 3px 1px rgba(60, 64, 67, 0.15);\n",
              "      fill: #174EA6;\n",
              "    }\n",
              "\n",
              "    .colab-df-buttons div {\n",
              "      margin-bottom: 4px;\n",
              "    }\n",
              "\n",
              "    [theme=dark] .colab-df-convert {\n",
              "      background-color: #3B4455;\n",
              "      fill: #D2E3FC;\n",
              "    }\n",
              "\n",
              "    [theme=dark] .colab-df-convert:hover {\n",
              "      background-color: #434B5C;\n",
              "      box-shadow: 0px 1px 3px 1px rgba(0, 0, 0, 0.15);\n",
              "      filter: drop-shadow(0px 1px 2px rgba(0, 0, 0, 0.3));\n",
              "      fill: #FFFFFF;\n",
              "    }\n",
              "  </style>\n",
              "\n",
              "    <script>\n",
              "      const buttonEl =\n",
              "        document.querySelector('#df-3fc4040f-c4e3-47ab-8ebb-cbc9474e5165 button.colab-df-convert');\n",
              "      buttonEl.style.display =\n",
              "        google.colab.kernel.accessAllowed ? 'block' : 'none';\n",
              "\n",
              "      async function convertToInteractive(key) {\n",
              "        const element = document.querySelector('#df-3fc4040f-c4e3-47ab-8ebb-cbc9474e5165');\n",
              "        const dataTable =\n",
              "          await google.colab.kernel.invokeFunction('convertToInteractive',\n",
              "                                                    [key], {});\n",
              "        if (!dataTable) return;\n",
              "\n",
              "        const docLinkHtml = 'Like what you see? Visit the ' +\n",
              "          '<a target=\"_blank\" href=https://colab.research.google.com/notebooks/data_table.ipynb>data table notebook</a>'\n",
              "          + ' to learn more about interactive tables.';\n",
              "        element.innerHTML = '';\n",
              "        dataTable['output_type'] = 'display_data';\n",
              "        await google.colab.output.renderOutput(dataTable, element);\n",
              "        const docLink = document.createElement('div');\n",
              "        docLink.innerHTML = docLinkHtml;\n",
              "        element.appendChild(docLink);\n",
              "      }\n",
              "    </script>\n",
              "  </div>\n",
              "\n",
              "\n",
              "<div id=\"df-136c4863-2b3e-4632-b6ef-a2b2ea6d6ee0\">\n",
              "  <button class=\"colab-df-quickchart\" onclick=\"quickchart('df-136c4863-2b3e-4632-b6ef-a2b2ea6d6ee0')\"\n",
              "            title=\"Suggest charts\"\n",
              "            style=\"display:none;\">\n",
              "\n",
              "<svg xmlns=\"http://www.w3.org/2000/svg\" height=\"24px\"viewBox=\"0 0 24 24\"\n",
              "     width=\"24px\">\n",
              "    <g>\n",
              "        <path d=\"M19 3H5c-1.1 0-2 .9-2 2v14c0 1.1.9 2 2 2h14c1.1 0 2-.9 2-2V5c0-1.1-.9-2-2-2zM9 17H7v-7h2v7zm4 0h-2V7h2v10zm4 0h-2v-4h2v4z\"/>\n",
              "    </g>\n",
              "</svg>\n",
              "  </button>\n",
              "\n",
              "<style>\n",
              "  .colab-df-quickchart {\n",
              "      --bg-color: #E8F0FE;\n",
              "      --fill-color: #1967D2;\n",
              "      --hover-bg-color: #E2EBFA;\n",
              "      --hover-fill-color: #174EA6;\n",
              "      --disabled-fill-color: #AAA;\n",
              "      --disabled-bg-color: #DDD;\n",
              "  }\n",
              "\n",
              "  [theme=dark] .colab-df-quickchart {\n",
              "      --bg-color: #3B4455;\n",
              "      --fill-color: #D2E3FC;\n",
              "      --hover-bg-color: #434B5C;\n",
              "      --hover-fill-color: #FFFFFF;\n",
              "      --disabled-bg-color: #3B4455;\n",
              "      --disabled-fill-color: #666;\n",
              "  }\n",
              "\n",
              "  .colab-df-quickchart {\n",
              "    background-color: var(--bg-color);\n",
              "    border: none;\n",
              "    border-radius: 50%;\n",
              "    cursor: pointer;\n",
              "    display: none;\n",
              "    fill: var(--fill-color);\n",
              "    height: 32px;\n",
              "    padding: 0;\n",
              "    width: 32px;\n",
              "  }\n",
              "\n",
              "  .colab-df-quickchart:hover {\n",
              "    background-color: var(--hover-bg-color);\n",
              "    box-shadow: 0 1px 2px rgba(60, 64, 67, 0.3), 0 1px 3px 1px rgba(60, 64, 67, 0.15);\n",
              "    fill: var(--button-hover-fill-color);\n",
              "  }\n",
              "\n",
              "  .colab-df-quickchart-complete:disabled,\n",
              "  .colab-df-quickchart-complete:disabled:hover {\n",
              "    background-color: var(--disabled-bg-color);\n",
              "    fill: var(--disabled-fill-color);\n",
              "    box-shadow: none;\n",
              "  }\n",
              "\n",
              "  .colab-df-spinner {\n",
              "    border: 2px solid var(--fill-color);\n",
              "    border-color: transparent;\n",
              "    border-bottom-color: var(--fill-color);\n",
              "    animation:\n",
              "      spin 1s steps(1) infinite;\n",
              "  }\n",
              "\n",
              "  @keyframes spin {\n",
              "    0% {\n",
              "      border-color: transparent;\n",
              "      border-bottom-color: var(--fill-color);\n",
              "      border-left-color: var(--fill-color);\n",
              "    }\n",
              "    20% {\n",
              "      border-color: transparent;\n",
              "      border-left-color: var(--fill-color);\n",
              "      border-top-color: var(--fill-color);\n",
              "    }\n",
              "    30% {\n",
              "      border-color: transparent;\n",
              "      border-left-color: var(--fill-color);\n",
              "      border-top-color: var(--fill-color);\n",
              "      border-right-color: var(--fill-color);\n",
              "    }\n",
              "    40% {\n",
              "      border-color: transparent;\n",
              "      border-right-color: var(--fill-color);\n",
              "      border-top-color: var(--fill-color);\n",
              "    }\n",
              "    60% {\n",
              "      border-color: transparent;\n",
              "      border-right-color: var(--fill-color);\n",
              "    }\n",
              "    80% {\n",
              "      border-color: transparent;\n",
              "      border-right-color: var(--fill-color);\n",
              "      border-bottom-color: var(--fill-color);\n",
              "    }\n",
              "    90% {\n",
              "      border-color: transparent;\n",
              "      border-bottom-color: var(--fill-color);\n",
              "    }\n",
              "  }\n",
              "</style>\n",
              "\n",
              "  <script>\n",
              "    async function quickchart(key) {\n",
              "      const quickchartButtonEl =\n",
              "        document.querySelector('#' + key + ' button');\n",
              "      quickchartButtonEl.disabled = true;  // To prevent multiple clicks.\n",
              "      quickchartButtonEl.classList.add('colab-df-spinner');\n",
              "      try {\n",
              "        const charts = await google.colab.kernel.invokeFunction(\n",
              "            'suggestCharts', [key], {});\n",
              "      } catch (error) {\n",
              "        console.error('Error during call to suggestCharts:', error);\n",
              "      }\n",
              "      quickchartButtonEl.classList.remove('colab-df-spinner');\n",
              "      quickchartButtonEl.classList.add('colab-df-quickchart-complete');\n",
              "    }\n",
              "    (() => {\n",
              "      let quickchartButtonEl =\n",
              "        document.querySelector('#df-136c4863-2b3e-4632-b6ef-a2b2ea6d6ee0 button');\n",
              "      quickchartButtonEl.style.display =\n",
              "        google.colab.kernel.accessAllowed ? 'block' : 'none';\n",
              "    })();\n",
              "  </script>\n",
              "</div>\n",
              "    </div>\n",
              "  </div>\n"
            ],
            "application/vnd.google.colaboratory.intrinsic+json": {
              "type": "dataframe",
              "variable_name": "carsales",
              "summary": "{\n  \"name\": \"carsales\",\n  \"rows\": 157,\n  \"fields\": [\n    {\n      \"column\": \"Manufacturer\",\n      \"properties\": {\n        \"dtype\": \"category\",\n        \"num_unique_values\": 29,\n        \"samples\": [\n          \"Volkswagen\",\n          \"Mitsubishi\",\n          \"Jaguar\"\n        ],\n        \"semantic_type\": \"\",\n        \"description\": \"\"\n      }\n    },\n    {\n      \"column\": \"Model\",\n      \"properties\": {\n        \"dtype\": \"string\",\n        \"num_unique_values\": 155,\n        \"samples\": [\n          \"Galant\",\n          \"Land Cruiser\",\n          \"Cirrus\"\n        ],\n        \"semantic_type\": \"\",\n        \"description\": \"\"\n      }\n    },\n    {\n      \"column\": \"Sales_Unit\",\n      \"properties\": {\n        \"dtype\": \"number\",\n        \"std\": 120.12000638600149,\n        \"min\": 0.11,\n        \"max\": 954.0,\n        \"num_unique_values\": 157,\n        \"samples\": [\n          1.866,\n          181.749,\n          49.989\n        ],\n        \"semantic_type\": \"\",\n        \"description\": \"\"\n      }\n    },\n    {\n      \"column\": \"__year_resale_value\",\n      \"properties\": {\n        \"dtype\": \"number\",\n        \"std\": 12.313715562998764,\n        \"min\": 5.16,\n        \"max\": 67.55,\n        \"num_unique_values\": 153,\n        \"samples\": [\n          13.88,\n          13.89,\n          56.85\n        ],\n        \"semantic_type\": \"\",\n        \"description\": \"\"\n      }\n    },\n    {\n      \"column\": \"Vehicle_type\",\n      \"properties\": {\n        \"dtype\": \"category\",\n        \"num_unique_values\": 2,\n        \"samples\": [\n          \"Car\",\n          \"Passenger\"\n        ],\n        \"semantic_type\": \"\",\n        \"description\": \"\"\n      }\n    },\n    {\n      \"column\": \"Sale_Price\",\n      \"properties\": {\n        \"dtype\": \"number\",\n        \"std\": 14.418975670829257,\n        \"min\": 9.235,\n        \"max\": 85.5,\n        \"num_unique_values\": 154,\n        \"samples\": [\n          44.475,\n          82.6\n        ],\n        \"semantic_type\": \"\",\n        \"description\": \"\"\n      }\n    },\n    {\n      \"column\": \"Engine_size\",\n      \"properties\": {\n        \"dtype\": \"number\",\n        \"std\": 1.041888870633034,\n        \"min\": 1.0,\n        \"max\": 8.0,\n        \"num_unique_values\": 31,\n        \"samples\": [\n          4.3,\n          2.0\n        ],\n        \"semantic_type\": \"\",\n        \"description\": \"\"\n      }\n    },\n    {\n      \"column\": \"Horsepower\",\n      \"properties\": {\n        \"dtype\": \"number\",\n        \"std\": 56,\n        \"min\": 55,\n        \"max\": 450,\n        \"num_unique_values\": 66,\n        \"samples\": [\n          217,\n          127\n        ],\n        \"semantic_type\": \"\",\n        \"description\": \"\"\n      }\n    },\n    {\n      \"column\": \"Wheelbase\",\n      \"properties\": {\n        \"dtype\": \"number\",\n        \"std\": 7.6194119530665905,\n        \"min\": 92.6,\n        \"max\": 138.7,\n        \"num_unique_values\": 89,\n        \"samples\": [\n          138.5,\n          93.4\n        ],\n        \"semantic_type\": \"\",\n        \"description\": \"\"\n      }\n    },\n    {\n      \"column\": \"Width\",\n      \"properties\": {\n        \"dtype\": \"number\",\n        \"std\": 3.4420142400079405,\n        \"min\": 62.6,\n        \"max\": 79.9,\n        \"num_unique_values\": 79,\n        \"samples\": [\n          69.1,\n          67.3\n        ],\n        \"semantic_type\": \"\",\n        \"description\": \"\"\n      }\n    },\n    {\n      \"column\": \"Length\",\n      \"properties\": {\n        \"dtype\": \"number\",\n        \"std\": 13.406446914810582,\n        \"min\": 149.4,\n        \"max\": 224.5,\n        \"num_unique_values\": 128,\n        \"samples\": [\n          178.2,\n          193.5\n        ],\n        \"semantic_type\": \"\",\n        \"description\": \"\"\n      }\n    },\n    {\n      \"column\": \"Curb_weight\",\n      \"properties\": {\n        \"dtype\": \"number\",\n        \"std\": 0.6270945527972369,\n        \"min\": 1.895,\n        \"max\": 5.572,\n        \"num_unique_values\": 148,\n        \"samples\": [\n          2.332,\n          3.876\n        ],\n        \"semantic_type\": \"\",\n        \"description\": \"\"\n      }\n    },\n    {\n      \"column\": \"Fuel_capacity\",\n      \"properties\": {\n        \"dtype\": \"number\",\n        \"std\": 3.876184524428363,\n        \"min\": 10.3,\n        \"max\": 32.0,\n        \"num_unique_values\": 55,\n        \"samples\": [\n          21.1,\n          23.7\n        ],\n        \"semantic_type\": \"\",\n        \"description\": \"\"\n      }\n    },\n    {\n      \"column\": \"Fuel_efficiency\",\n      \"properties\": {\n        \"dtype\": \"number\",\n        \"std\": 4,\n        \"min\": 15,\n        \"max\": 45,\n        \"num_unique_values\": 20,\n        \"samples\": [\n          28,\n          32\n        ],\n        \"semantic_type\": \"\",\n        \"description\": \"\"\n      }\n    },\n    {\n      \"column\": \"Date\",\n      \"properties\": {\n        \"dtype\": \"date\",\n        \"min\": \"2019-01-01 00:00:00\",\n        \"max\": \"2019-06-06 00:00:00\",\n        \"num_unique_values\": 157,\n        \"samples\": [\n          \"2019-05-07 00:00:00\",\n          \"2019-02-15 00:00:00\"\n        ],\n        \"semantic_type\": \"\",\n        \"description\": \"\"\n      }\n    },\n    {\n      \"column\": \"Power_perf_factor\",\n      \"properties\": {\n        \"dtype\": \"string\",\n        \"num_unique_values\": 156,\n        \"samples\": [\n          \"8.280.736.193\",\n          \"8.038.777.912\"\n        ],\n        \"semantic_type\": \"\",\n        \"description\": \"\"\n      }\n    },\n    {\n      \"column\": \"sale_month\",\n      \"properties\": {\n        \"dtype\": \"category\",\n        \"num_unique_values\": 6,\n        \"samples\": [\n          \"January\",\n          \"February\"\n        ],\n        \"semantic_type\": \"\",\n        \"description\": \"\"\n      }\n    }\n  ]\n}"
            }
          },
          "metadata": {},
          "execution_count": 12
        }
      ],
      "source": [
        "carsales.head()"
      ]
    },
    {
      "cell_type": "markdown",
      "metadata": {
        "id": "UHKM48UFVWV3"
      },
      "source": [
        "# **EDA**"
      ]
    },
    {
      "cell_type": "code",
      "execution_count": 13,
      "metadata": {
        "colab": {
          "base_uri": "https://localhost:8080/",
          "height": 433
        },
        "id": "zDFfxmHEVZtY",
        "outputId": "4a18102d-6100-4c9e-eb77-a286909dd660"
      },
      "outputs": [
        {
          "output_type": "display_data",
          "data": {
            "text/plain": [
              "<Figure size 1200x800 with 1 Axes>"
            ],
            "image/png": "[encoded data removed]"
          },
          "metadata": {}
        }
      ],
      "source": [
        "# Analisis Produk\n",
        "plt.figure(figsize=(12, 8))\n",
        "sns.countplot(y='Manufacturer', data=carsales)\n",
        "plt.title('Analisis Merk Mobil')\n",
        "plt.xlabel('Total Jumlah')\n",
        "plt.ylabel('Jenis Merk Mobil')\n",
        "plt.show()"
      ]
    },
    {
      "cell_type": "code",
      "execution_count": 14,
      "metadata": {
        "colab": {
          "base_uri": "https://localhost:8080/",
          "height": 420
        },
        "id": "4guAV1a9WNfQ",
        "outputId": "3fd46473-60cb-4981-d12c-fc392dbc429b"
      },
      "outputs": [
        {
          "output_type": "display_data",
          "data": {
            "text/plain": [
              "<Figure size 1000x600 with 1 Axes>"
            ],
            "image/png": "[encoded data removed]"
          },
          "metadata": {}
        }
      ],
      "source": [
        "plt.figure(figsize=(10,6))\n",
        "sns.lineplot(x='sale_month',y='Sale_Price',data=carsales)\n",
        "plt.title('Tren Penjualan Mobil Tiap Launching')\n",
        "plt.ylabel('Sale Price')\n",
        "plt.xlabel('Month')\n",
        "plt.show();"
      ]
    },
    {
      "cell_type": "code",
      "execution_count": 15,
      "metadata": {
        "colab": {
          "base_uri": "https://localhost:8080/",
          "height": 401
        },
        "id": "Sdl4ZJiaTLa8",
        "outputId": "1123cbdf-db83-49e4-86e7-c6bf7f7f657f"
      },
      "outputs": [
        {
          "output_type": "display_data",
          "data": {
            "text/plain": [
              "<Figure size 1000x600 with 1 Axes>"
            ],
            "image/png": "[encoded data removed]"
          },
          "metadata": {}
        }
      ],
      "source": [
        "# Analisis Jenis Kendaraan\n",
        "plt.figure(figsize=(10, 6))\n",
        "sns.countplot(y='Vehicle_type', data=carsales)\n",
        "plt.title('Analisis Jenis Kendaraan')\n",
        "plt.xlabel('Total Jumlah Kendaraan')\n",
        "plt.ylabel('Jenis Kendaraan')\n",
        "plt.show()"
      ]
    },
    {
      "cell_type": "code",
      "execution_count": 16,
      "metadata": {
        "colab": {
          "base_uri": "https://localhost:8080/",
          "height": 430
        },
        "id": "yQKwhUbQS9r0",
        "outputId": "5b53f29d-8be2-4f4c-af88-ee2070daf26e"
      },
      "outputs": [
        {
          "output_type": "display_data",
          "data": {
            "text/plain": [
              "<Figure size 640x480 with 1 Axes>"
            ],
            "image/png": "[encoded data removed]"
          },
          "metadata": {}
        }
      ],
      "source": [
        "carsales.groupby('sale_month').size().plot(kind='barh', color=sns.palettes.mpl_palette('Dark2'))\n",
        "plt.gca().spines[['top', 'right',]].set_visible(False)"
      ]
    },
    {
      "cell_type": "markdown",
      "metadata": {
        "id": "-mdKhvzofr0b"
      },
      "source": [
        "# DATA TRANSFORMATION"
      ]
    },
    {
      "cell_type": "code",
      "execution_count": 17,
      "metadata": {
        "colab": {
          "base_uri": "https://localhost:8080/"
        },
        "id": "HdsEvSb0f04f",
        "outputId": "b5b02c79-22c6-4bee-b01f-26aac4102c21"
      },
      "outputs": [
        {
          "output_type": "stream",
          "name": "stdout",
          "text": [
            "Vehicle_type\n",
            "Passenger    116\n",
            "Car           41\n",
            "Name: count, dtype: int64\n"
          ]
        }
      ],
      "source": [
        "print(carsales['Vehicle_type'].value_counts())"
      ]
    },
    {
      "cell_type": "code",
      "execution_count": 18,
      "metadata": {
        "id": "QTBHGklngu1r"
      },
      "outputs": [],
      "source": [
        "carsales.replace({'Vehicle_type':{'Passenger':0, 'Car':1}}, inplace =True)"
      ]
    },
    {
      "cell_type": "code",
      "execution_count": 42,
      "metadata": {
        "id": "QtWnJdoev39r"
      },
      "outputs": [],
      "source": [
        "#seleksi fitur\n",
        "features = ['Vehicle_type', 'Engine_size', 'Horsepower', 'Curb_weight', 'Fuel_capacity']\n",
        "x = carsales[features]\n",
        "y = carsales['Sale_Price']"
      ]
    },
    {
      "cell_type": "code",
      "execution_count": 20,
      "metadata": {
        "id": "y5scFMbFWX1e"
      },
      "outputs": [],
      "source": [
        "carsales['Vehicle_type'] = carsales['Vehicle_type'].astype(int)"
      ]
    },
    {
      "cell_type": "code",
      "execution_count": 41,
      "metadata": {
        "id": "04TJxR-krs8S",
        "colab": {
          "base_uri": "https://localhost:8080/"
        },
        "outputId": "6ba93698-cf30-4fae-9670-7ca0e39a4675"
      },
      "outputs": [
        {
          "output_type": "execute_result",
          "data": {
            "text/plain": [
              "(40,)"
            ]
          },
          "metadata": {},
          "execution_count": 41
        }
      ],
      "source": [
        "# split data training dan data testing\n",
        "x_train, x_test, y_train, y_test = train_test_split(x,y,random_state=70)\n",
        "y_test.shape"
      ]
    },
    {
      "cell_type": "code",
      "source": [
        "# membuat model regresi linear\n",
        "lr = LinearRegression()\n",
        "lr.fit(x_train, y_train)\n",
        "pred = lr.predict(x_test)"
      ],
      "metadata": {
        "id": "AHEsM_dopv79"
      },
      "execution_count": 40,
      "outputs": []
    },
    {
      "cell_type": "code",
      "source": [
        "score = lr.score(x_test, y_test)\n",
        "print('akurasi model regresi linear = ', score)"
      ],
      "metadata": {
        "colab": {
          "base_uri": "https://localhost:8080/"
        },
        "id": "nft1QKjs_NI0",
        "outputId": "74af87f7-48b9-482a-e47f-d451d25320d6"
      },
      "execution_count": 43,
      "outputs": [
        {
          "output_type": "stream",
          "name": "stdout",
          "text": [
            "akurasi model regresi linear =  0.6823758155404179\n"
          ]
        }
      ]
    },
    {
      "cell_type": "code",
      "source": [
        "# membuat inputan model regresi linear\n",
        "input_data = np.array([[13.2, 1.8, 2639, 0, 140]])\n",
        "\n",
        "prediction = lr.predict(input_data)\n",
        "\n",
        "print(\"Estimasi Harga Mobil Bekas: \", prediction)"
      ],
      "metadata": {
        "colab": {
          "base_uri": "https://localhost:8080/"
        },
        "id": "XW0UBm4XrADl",
        "outputId": "2097bb12-a091-4e93-c5c6-c52e36c0ddb4"
      },
      "execution_count": 45,
      "outputs": [
        {
          "output_type": "stream",
          "name": "stdout",
          "text": [
            "Estimasi Harga Mobil Bekas:  [564.42963023]\n"
          ]
        },
        {
          "output_type": "stream",
          "name": "stderr",
          "text": [
            "/usr/local/lib/python3.10/dist-packages/sklearn/base.py:439: UserWarning: X does not have valid feature names, but LinearRegression was fitted with feature names\n",
            "  warnings.warn(\n"
          ]
        }
      ]
    },
    {
      "cell_type": "markdown",
      "source": [
        "# **EVALUATION**"
      ],
      "metadata": {
        "id": "ZLFHNwg8BeNh"
      }
    },
    {
      "cell_type": "code",
      "source": [
        "from sklearn.metrics import mean_squared_error, r2_score\n",
        "y_test_pred = model.predict(x_test)\n",
        "\n",
        "mse = mean_squared_error(y_test, y_test_pred)\n",
        "rmse = np.sqrt(mse)\n",
        "r2 = r2_score(y_test, y_test_pred)\n",
        "\n",
        "model_mse = {}\n",
        "model_rmse = {}\n",
        "model_r2 = {}\n",
        "\n",
        "model_mse['Linear Regression'] = mse\n",
        "model_rmse['Linear Regression'] = rmse\n",
        "model_r2['Linear Regression'] = r2\n",
        "\n",
        "print('Mean Squared Error is : {}'.format(mse))\n",
        "print('Root Mean Squared Error of the model is : {}'.format(rmse))\n",
        "print('R-squared value of the model is : {}'.format(r2))"
      ],
      "metadata": {
        "colab": {
          "base_uri": "https://localhost:8080/"
        },
        "id": "KvgyQptSpS8V",
        "outputId": "2138bfea-35c5-49b8-f372-42cd7cdf8926"
      },
      "execution_count": 25,
      "outputs": [
        {
          "output_type": "stream",
          "name": "stdout",
          "text": [
            "Mean Squared Error is : 72.05492102061092\n",
            "Root Mean Squared Error of the model is : 8.488517009502361\n",
            "R-squared value of the model is : 0.6823758155404179\n"
          ]
        }
      ]
    },
    {
      "cell_type": "code",
      "source": [
        "### Melatih model Regresi Vektor Dukungan pada dataset\n",
        "\n",
        "support_vector_regressor = SVR(kernel = 'rbf')\n",
        "support_vector_regressor.fit(x_train, y_train)"
      ],
      "metadata": {
        "colab": {
          "base_uri": "https://localhost:8080/",
          "height": 74
        },
        "id": "51wiNQfUi6jf",
        "outputId": "dd7205d2-1f39-4c6a-ac52-0761670cb6d6"
      },
      "execution_count": 26,
      "outputs": [
        {
          "output_type": "execute_result",
          "data": {
            "text/plain": [
              "SVR()"
            ],
            "text/html": [
              "<style>#sk-container-id-2 {color: black;background-color: white;}#sk-container-id-2 pre{padding: 0;}#sk-container-id-2 div.sk-toggleable {background-color: white;}#sk-container-id-2 label.sk-toggleable__label {cursor: pointer;display: block;width: 100%;margin-bottom: 0;padding: 0.3em;box-sizing: border-box;text-align: center;}#sk-container-id-2 label.sk-toggleable__label-arrow:before {content: \"▸\";float: left;margin-right: 0.25em;color: #696969;}#sk-container-id-2 label.sk-toggleable__label-arrow:hover:before {color: black;}#sk-container-id-2 div.sk-estimator:hover label.sk-toggleable__label-arrow:before {color: black;}#sk-container-id-2 div.sk-toggleable__content {max-height: 0;max-width: 0;overflow: hidden;text-align: left;background-color: #f0f8ff;}#sk-container-id-2 div.sk-toggleable__content pre {margin: 0.2em;color: black;border-radius: 0.25em;background-color: #f0f8ff;}#sk-container-id-2 input.sk-toggleable__control:checked~div.sk-toggleable__content {max-height: 200px;max-width: 100%;overflow: auto;}#sk-container-id-2 input.sk-toggleable__control:checked~label.sk-toggleable__label-arrow:before {content: \"▾\";}#sk-container-id-2 div.sk-estimator input.sk-toggleable__control:checked~label.sk-toggleable__label {background-color: #d4ebff;}#sk-container-id-2 div.sk-label input.sk-toggleable__control:checked~label.sk-toggleable__label {background-color: #d4ebff;}#sk-container-id-2 input.sk-hidden--visually {border: 0;clip: rect(1px 1px 1px 1px);clip: rect(1px, 1px, 1px, 1px);height: 1px;margin: -1px;overflow: hidden;padding: 0;position: absolute;width: 1px;}#sk-container-id-2 div.sk-estimator {font-family: monospace;background-color: #f0f8ff;border: 1px dotted black;border-radius: 0.25em;box-sizing: border-box;margin-bottom: 0.5em;}#sk-container-id-2 div.sk-estimator:hover {background-color: #d4ebff;}#sk-container-id-2 div.sk-parallel-item::after {content: \"\";width: 100%;border-bottom: 1px solid gray;flex-grow: 1;}#sk-container-id-2 div.sk-label:hover label.sk-toggleable__label {background-color: #d4ebff;}#sk-container-id-2 div.sk-serial::before {content: \"\";position: absolute;border-left: 1px solid gray;box-sizing: border-box;top: 0;bottom: 0;left: 50%;z-index: 0;}#sk-container-id-2 div.sk-serial {display: flex;flex-direction: column;align-items: center;background-color: white;padding-right: 0.2em;padding-left: 0.2em;position: relative;}#sk-container-id-2 div.sk-item {position: relative;z-index: 1;}#sk-container-id-2 div.sk-parallel {display: flex;align-items: stretch;justify-content: center;background-color: white;position: relative;}#sk-container-id-2 div.sk-item::before, #sk-container-id-2 div.sk-parallel-item::before {content: \"\";position: absolute;border-left: 1px solid gray;box-sizing: border-box;top: 0;bottom: 0;left: 50%;z-index: -1;}#sk-container-id-2 div.sk-parallel-item {display: flex;flex-direction: column;z-index: 1;position: relative;background-color: white;}#sk-container-id-2 div.sk-parallel-item:first-child::after {align-self: flex-end;width: 50%;}#sk-container-id-2 div.sk-parallel-item:last-child::after {align-self: flex-start;width: 50%;}#sk-container-id-2 div.sk-parallel-item:only-child::after {width: 0;}#sk-container-id-2 div.sk-dashed-wrapped {border: 1px dashed gray;margin: 0 0.4em 0.5em 0.4em;box-sizing: border-box;padding-bottom: 0.4em;background-color: white;}#sk-container-id-2 div.sk-label label {font-family: monospace;font-weight: bold;display: inline-block;line-height: 1.2em;}#sk-container-id-2 div.sk-label-container {text-align: center;}#sk-container-id-2 div.sk-container {/* jupyter's `normalize.less` sets `[hidden] { display: none; }` but bootstrap.min.css set `[hidden] { display: none !important; }` so we also need the `!important` here to be able to override the default hidden behavior on the sphinx rendered scikit-learn.org. See: https://github.com/scikit-learn/scikit-learn/issues/21755 */display: inline-block !important;position: relative;}#sk-container-id-2 div.sk-text-repr-fallback {display: none;}</style><div id=\"sk-container-id-2\" class=\"sk-top-container\"><div class=\"sk-text-repr-fallback\"><pre>SVR()</pre><b>In a Jupyter environment, please rerun this cell to show the HTML representation or trust the notebook. <br />On GitHub, the HTML representation is unable to render, please try loading this page with nbviewer.org.</b></div><div class=\"sk-container\" hidden><div class=\"sk-item\"><div class=\"sk-estimator sk-toggleable\"><input class=\"sk-toggleable__control sk-hidden--visually\" id=\"sk-estimator-id-2\" type=\"checkbox\" checked><label for=\"sk-estimator-id-2\" class=\"sk-toggleable__label sk-toggleable__label-arrow\">SVR</label><div class=\"sk-toggleable__content\"><pre>SVR()</pre></div></div></div></div></div>"
            ]
          },
          "metadata": {},
          "execution_count": 26
        }
      ]
    },
    {
      "cell_type": "code",
      "source": [
        "### Memprediksi hasil set Tes\n",
        "\n",
        "y_pred = support_vector_regressor.predict(x_test)"
      ],
      "metadata": {
        "id": "l8dFWG7ikXP3"
      },
      "execution_count": 27,
      "outputs": []
    },
    {
      "cell_type": "code",
      "source": [
        "### Menghitung MSE, RMSE dan R2 score untuk model\n",
        "\n",
        "mse = round(mean_squared_error(y_test, y_pred), 3)\n",
        "rmse = round(np.sqrt(mse), 3)\n",
        "r2 = round(r2_score(y_test, y_pred), 3)\n",
        "\n",
        "model_mse['Support Vector Regression'] = mse\n",
        "model_rmse['Support Vector Regression'] = rmse\n",
        "model_r2['Support Vector Regression'] = r2\n",
        "\n",
        "print('Mean Squared Error is : {}'.format(mse))\n",
        "print('Root Mean Squared Error of the model is : {}'.format(rmse))\n",
        "print('R-squared value of the model is : {}'.format(r2))"
      ],
      "metadata": {
        "colab": {
          "base_uri": "https://localhost:8080/"
        },
        "id": "QCKVIZzXkdYK",
        "outputId": "8d6d2abb-504e-410a-dae5-2537f54da789"
      },
      "execution_count": 28,
      "outputs": [
        {
          "output_type": "stream",
          "name": "stdout",
          "text": [
            "Mean Squared Error is : 151.883\n",
            "Root Mean Squared Error of the model is : 12.324\n",
            "R-squared value of the model is : 0.33\n"
          ]
        }
      ]
    },
    {
      "cell_type": "code",
      "source": [
        "model_mse"
      ],
      "metadata": {
        "colab": {
          "base_uri": "https://localhost:8080/"
        },
        "id": "KvpGUoUphzFN",
        "outputId": "5f2fec87-4914-4213-c251-3b1cd451b962"
      },
      "execution_count": 29,
      "outputs": [
        {
          "output_type": "execute_result",
          "data": {
            "text/plain": [
              "{'Linear Regression': 72.05492102061092, 'Support Vector Regression': 151.883}"
            ]
          },
          "metadata": {},
          "execution_count": 29
        }
      ]
    },
    {
      "cell_type": "code",
      "source": [
        "### Looking at the model rmse dictionary\n",
        "\n",
        "model_rmse"
      ],
      "metadata": {
        "colab": {
          "base_uri": "https://localhost:8080/"
        },
        "id": "AEpbe76vf9xi",
        "outputId": "c5d756c5-ea3d-424d-9b13-5cefcc4cf6c7"
      },
      "execution_count": 30,
      "outputs": [
        {
          "output_type": "execute_result",
          "data": {
            "text/plain": [
              "{'Linear Regression': 8.488517009502361, 'Support Vector Regression': 12.324}"
            ]
          },
          "metadata": {},
          "execution_count": 30
        }
      ]
    },
    {
      "cell_type": "code",
      "source": [
        "model_r2"
      ],
      "metadata": {
        "colab": {
          "base_uri": "https://localhost:8080/"
        },
        "id": "PhMk5nrvh1Oy",
        "outputId": "ae25bd8d-9bbf-4dcf-877b-7fb130c8487e"
      },
      "execution_count": 31,
      "outputs": [
        {
          "output_type": "execute_result",
          "data": {
            "text/plain": [
              "{'Linear Regression': 0.6823758155404179, 'Support Vector Regression': 0.33}"
            ]
          },
          "metadata": {},
          "execution_count": 31
        }
      ]
    },
    {
      "cell_type": "code",
      "source": [
        "### Tabulating the results\n",
        "\n",
        "table = []\n",
        "table.append(['S.No.', 'Classification Model', 'Mean Squared Error', 'Root Mean Squared Error', 'R-squared'])\n",
        "count = 1\n",
        "\n",
        "for model in model_rmse:\n",
        "    row = [count, model, model_mse[model], model_rmse[model], model_r2[model]]\n",
        "    table.append(row)\n",
        "    count += 1\n",
        "\n",
        "print(tabulate(table, headers = 'firstrow', tablefmt = 'fancy_grid'))"
      ],
      "metadata": {
        "colab": {
          "base_uri": "https://localhost:8080/"
        },
        "id": "UjY1TC6-f4hK",
        "outputId": "1bcab424-69a8-45b8-8bd6-ee4757f2d7bc"
      },
      "execution_count": 32,
      "outputs": [
        {
          "output_type": "stream",
          "name": "stdout",
          "text": [
            "╒═════════╤═══════════════════════════╤══════════════════════╤═══════════════════════════╤═════════════╕\n",
            "│   S.No. │ Classification Model      │   Mean Squared Error │   Root Mean Squared Error │   R-squared │\n",
            "╞═════════╪═══════════════════════════╪══════════════════════╪═══════════════════════════╪═════════════╡\n",
            "│       1 │ Linear Regression         │              72.0549 │                   8.48852 │    0.682376 │\n",
            "├─────────┼───────────────────────────┼──────────────────────┼───────────────────────────┼─────────────┤\n",
            "│       2 │ Support Vector Regression │             151.883  │                  12.324   │    0.33     │\n",
            "╘═════════╧═══════════════════════════╧══════════════════════╧═══════════════════════════╧═════════════╛\n"
          ]
        }
      ]
    },
    {
      "cell_type": "markdown",
      "source": [
        "# **KESIMPULAN**"
      ],
      "metadata": {
        "id": "uzmIwXSx_XFx"
      }
    },
    {
      "cell_type": "markdown",
      "source": [
        "MSE: Nilai ini menunjukkan rata-rata dari kuadrat kesalahan. Nilai yang lebih kecil lebih baik.\n",
        "\n",
        "RMSE: Nilai ini adalah akar kuadrat dari MSE. Nilai yang lebih kecil lebih baik dan lebih mudah diinterpretasikan.\n",
        "\n",
        "R² Score: Nilai ini menunjukkan seberapa baik model dalam menjelaskan variabilitas data target. Nilai yang lebih dekat ke 1 lebih baik. Untuk model yang akurat, kita harus menemukan nilai MSE dan RMSE yang rendah serta nilai R² yang tinggi."
      ],
      "metadata": {
        "id": "Z-rWVYSU_ihI"
      }
    },
    {
      "cell_type": "markdown",
      "source": [
        "# Save Model"
      ],
      "metadata": {
        "id": "Vx9mIVfVBXBN"
      }
    },
    {
      "cell_type": "code",
      "source": [
        "import pickle\n",
        "\n",
        "filename = 'estimasi_harga.sav'\n",
        "pickle.dump(lr,open(filename, 'wb'))"
      ],
      "metadata": {
        "id": "UYzNbq3ya_mX"
      },
      "execution_count": 39,
      "outputs": []
    }
  ],
  "metadata": {
    "colab": {
      "provenance": []
    },
    "kernelspec": {
      "display_name": "Python 3",
      "name": "python3"
    },
    "language_info": {
      "name": "python"
    }
  },
  "nbformat": 4,
  "nbformat_minor": 0
}